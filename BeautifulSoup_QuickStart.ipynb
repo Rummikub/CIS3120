{
 "cells": [
  {
   "cell_type": "markdown",
   "id": "c48c4b23",
   "metadata": {},
   "source": [
    "# Web Scraping\n",
    "3 min video - What is Web Scraping: https://www.youtube.com/watch?v=Ct8Gxo8StBU\n",
    "  \n",
    "Some websites can contain a very large amount of invaluable data: stock prices, product details, sports stats, company contacts, you name it.  \n",
    "\n",
    "**Web scraping, web harvesting**, or **web data extraction** is data scraping used for extracting data from websites.  Web scraping software may directly access the World Wide Web using the Hypertext Transfer Protocol or a web browser. While web scraping can be done manually by a software user, the term typically refers to automated processes implemented using a bot or web crawler. It is a form of copying in which specific data is gathered and copied from the web, typically into a central local database or spreadsheet, for later retrieval or analysis.\n",
    "  \n",
    "Scraping a web page involves **fetching** it and **extracting** from it. Fetching is the downloading of a page (which a browser does when a user views a page). Therefore, web crawling is a main component of web scraping, to fetch pages for later processing. Once fetched, extraction can take place. The content of a page may be parsed, searched and reformatted, and its data copied into a spreadsheet or loaded into a database. Web scrapers typically take something out of a page, to make use of it for another purpose somewhere else. An example would be finding and copying names and telephone numbers, companies and their URLs, or e-mail addresses to a list (contact scraping).\n",
    "  \n",
    "https://en.wikipedia.org/wiki/Web_scraping"
   ]
  },
  {
   "cell_type": "markdown",
   "id": "09acf8eb",
   "metadata": {},
   "source": [
    "# Beautiful Soup  \n",
    "https://www.crummy.com/software/BeautifulSoup/  \n",
    "\n",
    "Python library designed for screen-scraping.  Beautiful Soup is a library for pulling data out of HTML and XML files. It provides ways of navigating, searching, and modifying parse trees.\n",
    "\n",
    "## Agenda\n",
    "Quick Start.  \n",
    "Installing the Soup.  \n",
    "Making the Soup.  \n",
    "Kinds of Objects:\n",
    "- [Tag](#Tag)\n",
    "- [NavigableString](#NavigableString)\n",
    "- [BeautifulSoup](#BeautifulSoup)\n",
    "- [Comment](#Comments-and-other-special-strings)\n",
    "\n",
    "**[Navigating the Tree:](#Navigating-the-tree)**\n",
    "- [Going Down](#Going-down)\n",
    "    - By using a tag name, e.g. *soup.head*\n",
    "    - .*contents* and .*children*\n",
    "    - .*descendants*\n",
    "    - .*string*, .*strings* and .*stripped_strings*  \n",
    "      \n",
    "    \n",
    "- [Going Up](#Going-up)\n",
    "    - .*parent*\n",
    "    - .*parents*  \n",
    "      \n",
    "    \n",
    "- [Going Sideways](#Going-sideways)\n",
    "    - .*next_sibling* and .*previous_sibling*\n",
    "    - .*next_siblings* and *previous_siblilngs* \n",
    "      \n",
    "    \n",
    "- [Going Back and Forth](#Going-back-and-forth)\n",
    "    - .*next_element* and .*previous_element*\n",
    "    - .*next_elements* and .*previous_elements*  \n",
    "      \n",
    "      \n",
    "    \n",
    "**[Searching the Tree](#Searching-the-tree):**\n",
    "- [Kinds of Filters](#Kinds-of-filters)\n",
    "    - A string\n",
    "    - A regular expression\n",
    "    - A list\n",
    "    - True\n",
    "    - A function\n",
    "   \n",
    "- [find_all()](#find_all())\n",
    "    - The name argument\n",
    "    - The keyword arguments\n",
    "    - Searching by CSS class\n",
    "    - The string argument\n",
    "    - The limit argument\n",
    "    - The recursive argument  \n",
    "  \n",
    "  \n",
    "- [Calling a tag is like calling *find_all()*](#Calling-a-tag-is-like-calling-find_all())\n",
    "- [*find()*](#find())\n",
    "- [*find_parents()* and *find_parent()*](#find_parents()-and-find_parent())\n",
    "- [*find_next_siblings()* and *find_next_sibling()*](#find_next_siblings()-and-find_next_sibling())\n",
    "- [*find_previous_siblings()* and *find_previous_sibling()*](#find_previous_siblings()-and-find_previous_sibling())\n",
    "- [*find_all_next()* and *find_next()*](#find_all_next()-and-find_next())\n",
    "- [*find_all_previous()* and *find_previous()*](#find_all_previous()-and-find_previous())\n",
    "\n",
    "## Quick Start\n",
    "https://www.crummy.com/software/BeautifulSoup/bs4/doc/#quick-start"
   ]
  },
  {
   "cell_type": "markdown",
   "id": "db5d853f",
   "metadata": {},
   "source": [
    "Here’s an HTML document I’ll be using as an example throughout this document. It’s part of a story from Alice in Wonderland:"
   ]
  },
  {
   "cell_type": "code",
   "execution_count": 171,
   "id": "d40fe587",
   "metadata": {},
   "outputs": [],
   "source": [
    "html_doc = \"\"\"<html><head><title>The Dormouse's story</title></head>\n",
    "<body>\n",
    "<p class=\"title\"><b>The Dormouse's story</b></p>\n",
    "\n",
    "<p class=\"story\">Once upon a time there were three little sisters; and their names were\n",
    "<a href=\"http://example.com/elsie\" class=\"sister\" id=\"link1\">Elsie</a>,\n",
    "<a href=\"http://example.com/lacie\" class=\"sister\" id=\"link2\">Lacie</a> and\n",
    "<a href=\"http://example.com/tillie\" class=\"sister\" id=\"link3\">Tillie</a>;\n",
    "and they lived at the bottom of a well.</p>\n",
    "\n",
    "<p class=\"story\">...</p>\n",
    "\"\"\""
   ]
  },
  {
   "cell_type": "markdown",
   "id": "64e59934",
   "metadata": {},
   "source": [
    "Running the “three sisters” document through Beautiful Soup gives us a BeautifulSoup object, which represents the document as a nested data structure:"
   ]
  },
  {
   "cell_type": "code",
   "execution_count": 172,
   "id": "5161e677",
   "metadata": {},
   "outputs": [
    {
     "name": "stdout",
     "output_type": "stream",
     "text": [
      "<html>\n",
      " <head>\n",
      "  <title>\n",
      "   The Dormouse's story\n",
      "  </title>\n",
      " </head>\n",
      " <body>\n",
      "  <p class=\"title\">\n",
      "   <b>\n",
      "    The Dormouse's story\n",
      "   </b>\n",
      "  </p>\n",
      "  <p class=\"story\">\n",
      "   Once upon a time there were three little sisters; and their names were\n",
      "   <a class=\"sister\" href=\"http://example.com/elsie\" id=\"link1\">\n",
      "    Elsie\n",
      "   </a>\n",
      "   ,\n",
      "   <a class=\"sister\" href=\"http://example.com/lacie\" id=\"link2\">\n",
      "    Lacie\n",
      "   </a>\n",
      "   and\n",
      "   <a class=\"sister\" href=\"http://example.com/tillie\" id=\"link3\">\n",
      "    Tillie\n",
      "   </a>\n",
      "   ;\n",
      "and they lived at the bottom of a well.\n",
      "  </p>\n",
      "  <p class=\"story\">\n",
      "   ...\n",
      "  </p>\n",
      " </body>\n",
      "</html>\n"
     ]
    }
   ],
   "source": [
    "from bs4 import BeautifulSoup\n",
    "soup = BeautifulSoup(html_doc, 'html.parser')\n",
    "\n",
    "print(soup.prettify())"
   ]
  },
  {
   "cell_type": "markdown",
   "id": "293919c0",
   "metadata": {},
   "source": [
    "Here are some simple ways to navigate that data structure:"
   ]
  },
  {
   "cell_type": "code",
   "execution_count": 173,
   "id": "c2310b73",
   "metadata": {},
   "outputs": [
    {
     "data": {
      "text/plain": [
       "<title>The Dormouse's story</title>"
      ]
     },
     "execution_count": 173,
     "metadata": {},
     "output_type": "execute_result"
    }
   ],
   "source": [
    "# title tag\n",
    "soup.title"
   ]
  },
  {
   "cell_type": "code",
   "execution_count": 174,
   "id": "bc08bbdc",
   "metadata": {},
   "outputs": [
    {
     "data": {
      "text/plain": [
       "'title'"
      ]
     },
     "execution_count": 174,
     "metadata": {},
     "output_type": "execute_result"
    }
   ],
   "source": [
    "# tag name\n",
    "soup.title.name"
   ]
  },
  {
   "cell_type": "code",
   "execution_count": 175,
   "id": "4404bcc3",
   "metadata": {},
   "outputs": [
    {
     "data": {
      "text/plain": [
       "\"The Dormouse's story\""
      ]
     },
     "execution_count": 175,
     "metadata": {},
     "output_type": "execute_result"
    }
   ],
   "source": [
    "# tag string\n",
    "soup.title.string"
   ]
  },
  {
   "cell_type": "code",
   "execution_count": 176,
   "id": "953cb1db",
   "metadata": {},
   "outputs": [
    {
     "data": {
      "text/plain": [
       "'head'"
      ]
     },
     "execution_count": 176,
     "metadata": {},
     "output_type": "execute_result"
    }
   ],
   "source": [
    "soup.title.parent.name"
   ]
  },
  {
   "cell_type": "code",
   "execution_count": 177,
   "id": "4373acb1",
   "metadata": {},
   "outputs": [
    {
     "data": {
      "text/plain": [
       "<p class=\"title\"><b>The Dormouse's story</b></p>"
      ]
     },
     "execution_count": 177,
     "metadata": {},
     "output_type": "execute_result"
    }
   ],
   "source": [
    "soup.p"
   ]
  },
  {
   "cell_type": "code",
   "execution_count": 178,
   "id": "8a70b4e5",
   "metadata": {},
   "outputs": [
    {
     "data": {
      "text/plain": [
       "['title']"
      ]
     },
     "execution_count": 178,
     "metadata": {},
     "output_type": "execute_result"
    }
   ],
   "source": [
    "# class of a p tag\n",
    "soup.p['class']"
   ]
  },
  {
   "cell_type": "code",
   "execution_count": 179,
   "id": "faae370f",
   "metadata": {},
   "outputs": [
    {
     "data": {
      "text/plain": [
       "<a class=\"sister\" href=\"http://example.com/elsie\" id=\"link1\">Elsie</a>"
      ]
     },
     "execution_count": 179,
     "metadata": {},
     "output_type": "execute_result"
    }
   ],
   "source": [
    "soup.a"
   ]
  },
  {
   "cell_type": "code",
   "execution_count": 180,
   "id": "bd3bed09",
   "metadata": {},
   "outputs": [
    {
     "data": {
      "text/plain": [
       "[<a class=\"sister\" href=\"http://example.com/elsie\" id=\"link1\">Elsie</a>,\n",
       " <a class=\"sister\" href=\"http://example.com/lacie\" id=\"link2\">Lacie</a>,\n",
       " <a class=\"sister\" href=\"http://example.com/tillie\" id=\"link3\">Tillie</a>]"
      ]
     },
     "execution_count": 180,
     "metadata": {},
     "output_type": "execute_result"
    }
   ],
   "source": [
    "soup.find_all('a')"
   ]
  },
  {
   "cell_type": "code",
   "execution_count": 181,
   "id": "923c02dd",
   "metadata": {},
   "outputs": [
    {
     "data": {
      "text/plain": [
       "<a class=\"sister\" href=\"http://example.com/tillie\" id=\"link3\">Tillie</a>"
      ]
     },
     "execution_count": 181,
     "metadata": {},
     "output_type": "execute_result"
    }
   ],
   "source": [
    "soup.find(id=\"link3\")"
   ]
  },
  {
   "cell_type": "markdown",
   "id": "db84ec95",
   "metadata": {},
   "source": [
    "One common task is extracting all the URLs found within a page’s <a> tags:"
   ]
  },
  {
   "cell_type": "code",
   "execution_count": 182,
   "id": "77b3d9df",
   "metadata": {},
   "outputs": [
    {
     "name": "stdout",
     "output_type": "stream",
     "text": [
      "http://example.com/elsie\n",
      "http://example.com/lacie\n",
      "http://example.com/tillie\n"
     ]
    }
   ],
   "source": [
    "for link in soup.find_all('a'):\n",
    "    print(link.get('href'))"
   ]
  },
  {
   "cell_type": "markdown",
   "id": "4cbe13d0",
   "metadata": {},
   "source": [
    "Another common task is extracting all the text from a page:"
   ]
  },
  {
   "cell_type": "code",
   "execution_count": 183,
   "id": "47d02962",
   "metadata": {},
   "outputs": [
    {
     "name": "stdout",
     "output_type": "stream",
     "text": [
      "The Dormouse's story\n",
      "\n",
      "The Dormouse's story\n",
      "Once upon a time there were three little sisters; and their names were\n",
      "Elsie,\n",
      "Lacie and\n",
      "Tillie;\n",
      "and they lived at the bottom of a well.\n",
      "...\n",
      "\n"
     ]
    }
   ],
   "source": [
    "print(soup.get_text())"
   ]
  },
  {
   "cell_type": "markdown",
   "id": "9ccdb90d",
   "metadata": {},
   "source": [
    "## Installing Beautiful Soup\n",
    "\n",
    "```python\n",
    "\n",
    "conda install -c anaconda beautifulsoup4\n",
    "\n",
    "```\n",
    "\n",
    "https://anaconda.org/anaconda/beautifulsoup4"
   ]
  },
  {
   "cell_type": "markdown",
   "id": "50b656ee",
   "metadata": {},
   "source": [
    "## Making the soup\n",
    "To parse a document, pass it into the BeautifulSoup constructor. You can pass in a string or an open filehandle:"
   ]
  },
  {
   "cell_type": "code",
   "execution_count": 344,
   "id": "7fa624a2",
   "metadata": {},
   "outputs": [
    {
     "name": "stdout",
     "output_type": "stream",
     "text": [
      "<html>\n",
      " a web page\n",
      "</html>\n"
     ]
    }
   ],
   "source": [
    "from bs4 import BeautifulSoup\n",
    "\n",
    "soup = BeautifulSoup(\"<html>a web page</html>\", 'html.parser')\n",
    "print(soup.prettify())"
   ]
  },
  {
   "cell_type": "markdown",
   "id": "d26ee461",
   "metadata": {},
   "source": [
    "```python\n",
    "# an open filehandle\n",
    "with open(\"index.html\") as fp:\n",
    "    soup = BeautifulSoup(fp, 'html.parser')\n",
    "```"
   ]
  },
  {
   "cell_type": "code",
   "execution_count": 185,
   "id": "3bf452fc",
   "metadata": {},
   "outputs": [
    {
     "name": "stdout",
     "output_type": "stream",
     "text": [
      "<title>Online Tutorials Library</title>\n"
     ]
    }
   ],
   "source": [
    "import requests\n",
    "url = \"https://www.tutorialspoint.com/index.htm\"\n",
    "req = requests.get(url)\n",
    "soup = BeautifulSoup(req.text, \"html.parser\")\n",
    "print(soup.title)"
   ]
  },
  {
   "cell_type": "markdown",
   "id": "3794cb12",
   "metadata": {},
   "source": [
    "## Kinds of objects\n",
    "Beautiful Soup transforms a complex HTML document into a complex tree of Python objects. But you’ll only ever have to deal with about four kinds of objects: **Tag, NavigableString, BeautifulSoup, and Comment**.\n",
    "### Tag\n",
    "A Tag object corresponds to an XML or HTML tag in the original document:"
   ]
  },
  {
   "cell_type": "code",
   "execution_count": 186,
   "id": "d9a4b839",
   "metadata": {},
   "outputs": [
    {
     "data": {
      "text/plain": [
       "bs4.element.Tag"
      ]
     },
     "execution_count": 186,
     "metadata": {},
     "output_type": "execute_result"
    }
   ],
   "source": [
    "soup = BeautifulSoup('<b class=\"boldest\">Extremely bold</b>', 'html.parser')\n",
    "tag = soup.b\n",
    "type(tag)"
   ]
  },
  {
   "cell_type": "markdown",
   "id": "43e624fd",
   "metadata": {},
   "source": [
    "Tags have a lot of attributes and methods, and I’ll cover most of them in Navigating the tree and Searching the tree. For now, the most important features of a tag are its name and attributes.\n",
    "#### Tag Name\n",
    "Every tag has a name, accessible as .name:"
   ]
  },
  {
   "cell_type": "code",
   "execution_count": 187,
   "id": "a962d9cd",
   "metadata": {},
   "outputs": [
    {
     "data": {
      "text/plain": [
       "'b'"
      ]
     },
     "execution_count": 187,
     "metadata": {},
     "output_type": "execute_result"
    }
   ],
   "source": [
    "tag.name"
   ]
  },
  {
   "cell_type": "markdown",
   "id": "53a71bfb",
   "metadata": {},
   "source": [
    "If you change a tag’s name, the change will be reflected in any HTML markup generated by Beautiful Soup:"
   ]
  },
  {
   "cell_type": "code",
   "execution_count": 188,
   "id": "2fa9f5fc",
   "metadata": {},
   "outputs": [
    {
     "data": {
      "text/plain": [
       "<blockquote class=\"boldest\">Extremely bold</blockquote>"
      ]
     },
     "execution_count": 188,
     "metadata": {},
     "output_type": "execute_result"
    }
   ],
   "source": [
    "tag.name = \"blockquote\"\n",
    "tag"
   ]
  },
  {
   "cell_type": "markdown",
   "id": "5c81aec2",
   "metadata": {},
   "source": [
    "#### Tag Attributes\n",
    "A tag may have any number of attributes. The tag &lt;b id=\"boldest\">&lt;/b> has an attribute “id” whose value is “boldest”. You can access a tag’s attributes by treating the tag like a dictionary:"
   ]
  },
  {
   "cell_type": "code",
   "execution_count": 189,
   "id": "6780b862",
   "metadata": {},
   "outputs": [
    {
     "data": {
      "text/plain": [
       "'boldest'"
      ]
     },
     "execution_count": 189,
     "metadata": {},
     "output_type": "execute_result"
    }
   ],
   "source": [
    "tag = BeautifulSoup('<b id=\"boldest\">bold</b>', 'html.parser').b\n",
    "tag['id']"
   ]
  },
  {
   "cell_type": "markdown",
   "id": "de104126",
   "metadata": {},
   "source": [
    "You can access that dictionary directly as .attrs:"
   ]
  },
  {
   "cell_type": "code",
   "execution_count": 190,
   "id": "ec2e43fd",
   "metadata": {},
   "outputs": [
    {
     "data": {
      "text/plain": [
       "{'id': 'boldest'}"
      ]
     },
     "execution_count": 190,
     "metadata": {},
     "output_type": "execute_result"
    }
   ],
   "source": [
    "tag.attrs"
   ]
  },
  {
   "cell_type": "markdown",
   "id": "f6cc2a10",
   "metadata": {},
   "source": [
    "You can add, remove, and modify a tag’s attributes. Again, this is done by treating the tag as a dictionary:"
   ]
  },
  {
   "cell_type": "code",
   "execution_count": 191,
   "id": "a753e367",
   "metadata": {},
   "outputs": [
    {
     "data": {
      "text/plain": [
       "<b another-attribute=\"1\" id=\"verybold\">bold</b>"
      ]
     },
     "execution_count": 191,
     "metadata": {},
     "output_type": "execute_result"
    }
   ],
   "source": [
    "tag['id'] = 'verybold'\n",
    "tag['another-attribute'] = 1\n",
    "tag"
   ]
  },
  {
   "cell_type": "code",
   "execution_count": 192,
   "id": "9077ce0e",
   "metadata": {},
   "outputs": [
    {
     "data": {
      "text/plain": [
       "<b>bold</b>"
      ]
     },
     "execution_count": 192,
     "metadata": {},
     "output_type": "execute_result"
    }
   ],
   "source": [
    "del tag['id']\n",
    "del tag['another-attribute']\n",
    "tag"
   ]
  },
  {
   "cell_type": "markdown",
   "id": "71302120",
   "metadata": {},
   "source": [
    "Multi-valued attributes are discussed on Beautiful Soup Documentation Website: \n",
    "https://www.crummy.com/software/BeautifulSoup/bs4/doc/#multi-valued-attributes"
   ]
  },
  {
   "cell_type": "markdown",
   "id": "bfcabc28",
   "metadata": {},
   "source": [
    "### NavigableString\n",
    "A string corresponds to a bit of text within a tag. Beautiful Soup uses the NavigableString class to contain these bits of text:"
   ]
  },
  {
   "cell_type": "code",
   "execution_count": 193,
   "id": "38ff31be",
   "metadata": {},
   "outputs": [
    {
     "data": {
      "text/plain": [
       "'Extremely bold'"
      ]
     },
     "execution_count": 193,
     "metadata": {},
     "output_type": "execute_result"
    }
   ],
   "source": [
    "soup = BeautifulSoup('<b class=\"boldest\">Extremely bold</b>', 'html.parser')\n",
    "tag = soup.b\n",
    "tag.string\n"
   ]
  },
  {
   "cell_type": "code",
   "execution_count": 194,
   "id": "46630d9f",
   "metadata": {},
   "outputs": [
    {
     "data": {
      "text/plain": [
       "bs4.element.NavigableString"
      ]
     },
     "execution_count": 194,
     "metadata": {},
     "output_type": "execute_result"
    }
   ],
   "source": [
    "type(tag.string)"
   ]
  },
  {
   "cell_type": "markdown",
   "id": "cb30d09b",
   "metadata": {},
   "source": [
    "You can’t edit a string in place, but you can replace one string with another, using replace_with():"
   ]
  },
  {
   "cell_type": "code",
   "execution_count": 195,
   "id": "151c4cb4",
   "metadata": {},
   "outputs": [
    {
     "data": {
      "text/plain": [
       "<b class=\"boldest\">No longer bold</b>"
      ]
     },
     "execution_count": 195,
     "metadata": {},
     "output_type": "execute_result"
    }
   ],
   "source": [
    "tag.string.replace_with(\"No longer bold\")\n",
    "tag"
   ]
  },
  {
   "cell_type": "markdown",
   "id": "4b25539a",
   "metadata": {},
   "source": [
    "NavigableString supports most of the features described in Navigating the tree and Searching the tree, but not all of them. In particular, since a string can’t contain anything (the way a tag may contain a string or another tag), strings don’t support the .contents or .string attributes, or the find() method.\n",
    "\n",
    "If you want to use a NavigableString outside of Beautiful Soup, you should call unicode() on it to turn it into a normal Python Unicode string. If you don’t, your string will carry around a reference to the entire Beautiful Soup parse tree, even when you’re done using Beautiful Soup. This is a big waste of memory.\n",
    "### BeautifulSoup\n",
    "The BeautifulSoup object represents the parsed document as a whole. For most purposes, you can treat it as a Tag object. This means it supports most of the methods described in Navigating the tree and Searching the tree.\n",
    "\n",
    "You can also pass a BeautifulSoup object into one of the methods defined in Modifying the tree, just as you would a Tag. This lets you do things like **combine two parsed documents**:"
   ]
  },
  {
   "cell_type": "code",
   "execution_count": 340,
   "id": "e3c9755e",
   "metadata": {},
   "outputs": [
    {
     "data": {
      "text/plain": [
       "'INSERT FOOTER HERE'"
      ]
     },
     "execution_count": 340,
     "metadata": {},
     "output_type": "execute_result"
    }
   ],
   "source": [
    "doc = BeautifulSoup(\"<document><content/>INSERT FOOTER HERE</document\", \"xml\")\n",
    "footer = BeautifulSoup(\"<footer>Here's the footer</footer>\", \"xml\")\n",
    "\n",
    "# replace text with footer tag\n",
    "doc.find(text=\"INSERT FOOTER HERE\").replace_with(footer)"
   ]
  },
  {
   "cell_type": "code",
   "execution_count": 197,
   "id": "4c2ce2a2",
   "metadata": {},
   "outputs": [
    {
     "name": "stdout",
     "output_type": "stream",
     "text": [
      "<?xml version=\"1.0\" encoding=\"utf-8\"?>\n",
      "<document><content/><footer>Here's the footer</footer></document>\n"
     ]
    }
   ],
   "source": [
    "print(doc)"
   ]
  },
  {
   "cell_type": "markdown",
   "id": "2209cf61",
   "metadata": {},
   "source": [
    "Since the BeautifulSoup object doesn’t correspond to an actual HTML or XML tag, it has no name and no attributes. But sometimes it’s useful to look at its .name, so it’s been given the special .name “[document]”:"
   ]
  },
  {
   "cell_type": "code",
   "execution_count": 198,
   "id": "aaabc0f2",
   "metadata": {},
   "outputs": [
    {
     "data": {
      "text/plain": [
       "'[document]'"
      ]
     },
     "execution_count": 198,
     "metadata": {},
     "output_type": "execute_result"
    }
   ],
   "source": [
    "soup.name"
   ]
  },
  {
   "cell_type": "markdown",
   "id": "8fe7d8a2",
   "metadata": {},
   "source": [
    "### Comments and other special strings"
   ]
  },
  {
   "cell_type": "code",
   "execution_count": 199,
   "id": "c6e8faed",
   "metadata": {},
   "outputs": [
    {
     "data": {
      "text/plain": [
       "bs4.element.Comment"
      ]
     },
     "execution_count": 199,
     "metadata": {},
     "output_type": "execute_result"
    }
   ],
   "source": [
    "markup = \"<b><!--Hey, buddy. Want to buy a used parser?--></b>\"\n",
    "soup = BeautifulSoup(markup, 'html.parser')\n",
    "comment = soup.b.string\n",
    "type(comment)"
   ]
  },
  {
   "cell_type": "markdown",
   "id": "c16b9576",
   "metadata": {},
   "source": [
    "The Comment object is just a special type of NavigableString:"
   ]
  },
  {
   "cell_type": "code",
   "execution_count": 200,
   "id": "bfb2f77f",
   "metadata": {},
   "outputs": [
    {
     "data": {
      "text/plain": [
       "'Hey, buddy. Want to buy a used parser?'"
      ]
     },
     "execution_count": 200,
     "metadata": {},
     "output_type": "execute_result"
    }
   ],
   "source": [
    "comment"
   ]
  },
  {
   "cell_type": "markdown",
   "id": "a92b615c",
   "metadata": {},
   "source": [
    "But when it appears as part of an HTML document, a Comment is displayed with special formatting:"
   ]
  },
  {
   "cell_type": "code",
   "execution_count": 201,
   "id": "ef545e1c",
   "metadata": {},
   "outputs": [
    {
     "name": "stdout",
     "output_type": "stream",
     "text": [
      "<b>\n",
      " <!--Hey, buddy. Want to buy a used parser?-->\n",
      "</b>\n"
     ]
    }
   ],
   "source": [
    "print(soup.b.prettify())"
   ]
  },
  {
   "cell_type": "markdown",
   "id": "a747fad9",
   "metadata": {},
   "source": [
    "See Beautiful Soup Documentation for other special strings: \n",
    "https://www.crummy.com/software/BeautifulSoup/bs4/doc/#comments-and-other-special-strings"
   ]
  },
  {
   "cell_type": "markdown",
   "id": "079da9b4",
   "metadata": {},
   "source": [
    "## Navigating the tree"
   ]
  },
  {
   "cell_type": "markdown",
   "id": "9f25b6f1",
   "metadata": {},
   "source": [
    "Here’s the “Three sisters” HTML document again:"
   ]
  },
  {
   "cell_type": "code",
   "execution_count": 341,
   "id": "bff6611a",
   "metadata": {},
   "outputs": [
    {
     "name": "stdout",
     "output_type": "stream",
     "text": [
      "<html>\n",
      " <head>\n",
      "  <title>\n",
      "   The Dormouse's story\n",
      "  </title>\n",
      " </head>\n",
      " <body>\n",
      "  <p class=\"title\">\n",
      "   <b>\n",
      "    The Dormouse's story\n",
      "   </b>\n",
      "  </p>\n",
      "  <p class=\"story\">\n",
      "   Once upon a time there were three little sisters; and their names were\n",
      "   <a class=\"sister\" href=\"http://example.com/elsie\" id=\"link1\">\n",
      "    Elsie\n",
      "   </a>\n",
      "   ,\n",
      "   <a class=\"sister\" href=\"http://example.com/lacie\" id=\"link2\">\n",
      "    Lacie\n",
      "   </a>\n",
      "   and\n",
      "   <a class=\"sister\" href=\"http://example.com/tillie\" id=\"link3\">\n",
      "    Tillie\n",
      "   </a>\n",
      "   ;\n",
      "and they lived at the bottom of a well.\n",
      "  </p>\n",
      "  <p class=\"story\">\n",
      "   ...\n",
      "  </p>\n",
      " </body>\n",
      "</html>\n"
     ]
    }
   ],
   "source": [
    "html_doc = \"\"\"<html><head><title>The Dormouse's story</title></head>\n",
    "<body>\n",
    "<p class=\"title\"><b>The Dormouse's story</b></p>\n",
    "\n",
    "<p class=\"story\">Once upon a time there were three little sisters; and their names were\n",
    "<a href=\"http://example.com/elsie\" class=\"sister\" id=\"link1\">Elsie</a>,\n",
    "<a href=\"http://example.com/lacie\" class=\"sister\" id=\"link2\">Lacie</a> and\n",
    "<a href=\"http://example.com/tillie\" class=\"sister\" id=\"link3\">Tillie</a>;\n",
    "and they lived at the bottom of a well.</p>\n",
    "\n",
    "<p class=\"story\">...</p>\n",
    "\"\"\"\n",
    "\n",
    "from bs4 import BeautifulSoup\n",
    "soup = BeautifulSoup(html_doc, 'html.parser')\n",
    "print(soup.prettify())"
   ]
  },
  {
   "cell_type": "markdown",
   "id": "e8c3c099",
   "metadata": {},
   "source": [
    "### Going down\n",
    "**Tags may contain strings and other tags**. These elements are the tag’s children. Beautiful Soup provides a lot of different attributes for navigating and iterating over a tag’s children.\n",
    "\n",
    "Note that Beautiful Soup strings don’t support any of these attributes, because a **string can’t have children**.\n",
    "#### Navigating using tag names\n",
    "The simplest way to navigate the parse tree is to say the name of the tag you want. If you want the &lt;head> tag, just say soup.head:"
   ]
  },
  {
   "cell_type": "code",
   "execution_count": 203,
   "id": "4cd7d8b8",
   "metadata": {},
   "outputs": [
    {
     "data": {
      "text/plain": [
       "<head><title>The Dormouse's story</title></head>"
      ]
     },
     "execution_count": 203,
     "metadata": {},
     "output_type": "execute_result"
    }
   ],
   "source": [
    "soup.head"
   ]
  },
  {
   "cell_type": "code",
   "execution_count": 204,
   "id": "afae7242",
   "metadata": {},
   "outputs": [
    {
     "data": {
      "text/plain": [
       "<title>The Dormouse's story</title>"
      ]
     },
     "execution_count": 204,
     "metadata": {},
     "output_type": "execute_result"
    }
   ],
   "source": [
    "soup.title"
   ]
  },
  {
   "cell_type": "markdown",
   "id": "68e9f165",
   "metadata": {},
   "source": [
    "You can do use this trick again and again to zoom in on a certain part of the parse tree. This code gets the first &lt;b&gt; tag beneath the &lt;body&gt; tag:"
   ]
  },
  {
   "cell_type": "code",
   "execution_count": 205,
   "id": "076cc0bb",
   "metadata": {},
   "outputs": [
    {
     "data": {
      "text/plain": [
       "<b>The Dormouse's story</b>"
      ]
     },
     "execution_count": 205,
     "metadata": {},
     "output_type": "execute_result"
    }
   ],
   "source": [
    "soup.body.b"
   ]
  },
  {
   "cell_type": "markdown",
   "id": "0119c493",
   "metadata": {},
   "source": [
    "Using a tag name as an attribute will give you only the first tag by that name:"
   ]
  },
  {
   "cell_type": "code",
   "execution_count": 206,
   "id": "0b977e43",
   "metadata": {},
   "outputs": [
    {
     "data": {
      "text/plain": [
       "<a class=\"sister\" href=\"http://example.com/elsie\" id=\"link1\">Elsie</a>"
      ]
     },
     "execution_count": 206,
     "metadata": {},
     "output_type": "execute_result"
    }
   ],
   "source": [
    "soup.a"
   ]
  },
  {
   "cell_type": "markdown",
   "id": "9cf8a867",
   "metadata": {},
   "source": [
    "If you need to get all the &lt;a&gt; tags, or anything more complicated than the first tag with a certain name, you’ll need to use one of the methods described in Searching the tree, such as find_all():"
   ]
  },
  {
   "cell_type": "code",
   "execution_count": 207,
   "id": "f0d872fe",
   "metadata": {},
   "outputs": [
    {
     "data": {
      "text/plain": [
       "[<a class=\"sister\" href=\"http://example.com/elsie\" id=\"link1\">Elsie</a>,\n",
       " <a class=\"sister\" href=\"http://example.com/lacie\" id=\"link2\">Lacie</a>,\n",
       " <a class=\"sister\" href=\"http://example.com/tillie\" id=\"link3\">Tillie</a>]"
      ]
     },
     "execution_count": 207,
     "metadata": {},
     "output_type": "execute_result"
    }
   ],
   "source": [
    "soup.find_all('a')"
   ]
  },
  {
   "cell_type": "markdown",
   "id": "df3a3874",
   "metadata": {},
   "source": [
    "#### .contents and .children\n",
    "A tag’s children are available in a list called .contents:"
   ]
  },
  {
   "cell_type": "code",
   "execution_count": 208,
   "id": "7a6597a5",
   "metadata": {},
   "outputs": [
    {
     "data": {
      "text/plain": [
       "<head><title>The Dormouse's story</title></head>"
      ]
     },
     "execution_count": 208,
     "metadata": {},
     "output_type": "execute_result"
    }
   ],
   "source": [
    "head_tag = soup.head\n",
    "head_tag"
   ]
  },
  {
   "cell_type": "code",
   "execution_count": 209,
   "id": "42cde1b8",
   "metadata": {},
   "outputs": [
    {
     "data": {
      "text/plain": [
       "[<title>The Dormouse's story</title>]"
      ]
     },
     "execution_count": 209,
     "metadata": {},
     "output_type": "execute_result"
    }
   ],
   "source": [
    "head_tag.contents"
   ]
  },
  {
   "cell_type": "code",
   "execution_count": 210,
   "id": "950c9d7a",
   "metadata": {},
   "outputs": [
    {
     "data": {
      "text/plain": [
       "<title>The Dormouse's story</title>"
      ]
     },
     "execution_count": 210,
     "metadata": {},
     "output_type": "execute_result"
    }
   ],
   "source": [
    "title_tag = head_tag.contents[0]\n",
    "title_tag"
   ]
  },
  {
   "cell_type": "code",
   "execution_count": 211,
   "id": "c3f7f7ef",
   "metadata": {},
   "outputs": [
    {
     "data": {
      "text/plain": [
       "[\"The Dormouse's story\"]"
      ]
     },
     "execution_count": 211,
     "metadata": {},
     "output_type": "execute_result"
    }
   ],
   "source": [
    "title_tag.contents"
   ]
  },
  {
   "cell_type": "markdown",
   "id": "3f3d7c54",
   "metadata": {},
   "source": [
    "The BeautifulSoup object itself has children. In this case, the &lt;html&gt; tag is the child of the BeautifulSoup object.:"
   ]
  },
  {
   "cell_type": "code",
   "execution_count": 212,
   "id": "83d01b39",
   "metadata": {},
   "outputs": [
    {
     "data": {
      "text/plain": [
       "1"
      ]
     },
     "execution_count": 212,
     "metadata": {},
     "output_type": "execute_result"
    }
   ],
   "source": [
    "len(soup.contents)"
   ]
  },
  {
   "cell_type": "code",
   "execution_count": 213,
   "id": "5daf902e",
   "metadata": {},
   "outputs": [
    {
     "data": {
      "text/plain": [
       "'html'"
      ]
     },
     "execution_count": 213,
     "metadata": {},
     "output_type": "execute_result"
    }
   ],
   "source": [
    "soup.contents[0].name"
   ]
  },
  {
   "cell_type": "markdown",
   "id": "86422ed9",
   "metadata": {},
   "source": [
    "A string does not have .contents, because it can’t contain anything:"
   ]
  },
  {
   "cell_type": "code",
   "execution_count": 214,
   "id": "006ea8c2",
   "metadata": {},
   "outputs": [],
   "source": [
    "text = title_tag.contents[0]\n",
    "# text.contents - will give AttributeError: 'NavigableString' object has no attribute 'contents'"
   ]
  },
  {
   "cell_type": "markdown",
   "id": "1bec9923",
   "metadata": {},
   "source": [
    "Instead of getting them as a list, you can iterate over a tag’s children using the .children generator:"
   ]
  },
  {
   "cell_type": "code",
   "execution_count": 215,
   "id": "45e288c6",
   "metadata": {},
   "outputs": [
    {
     "name": "stdout",
     "output_type": "stream",
     "text": [
      "The Dormouse's story\n"
     ]
    }
   ],
   "source": [
    "for child in title_tag.children:\n",
    "    print(child)"
   ]
  },
  {
   "cell_type": "markdown",
   "id": "234dcb76",
   "metadata": {},
   "source": [
    "If you want to modify a tag’s children, use the methods described in Modifying the tree. Don’t modify the the .contents list directly: that can lead to problems that are subtle and difficult to spot."
   ]
  },
  {
   "cell_type": "markdown",
   "id": "888985c6",
   "metadata": {},
   "source": [
    "#### .descendants\n",
    "The .contents and .children attributes only consider a tag’s direct children. For instance, the &lt;head&gt; tag has a single direct child–the &lt;title&gt; tag:"
   ]
  },
  {
   "cell_type": "code",
   "execution_count": 216,
   "id": "e0c2a2f8",
   "metadata": {},
   "outputs": [
    {
     "data": {
      "text/plain": [
       "[<title>The Dormouse's story</title>]"
      ]
     },
     "execution_count": 216,
     "metadata": {},
     "output_type": "execute_result"
    }
   ],
   "source": [
    "head_tag.contents"
   ]
  },
  {
   "cell_type": "markdown",
   "id": "514b1d74",
   "metadata": {},
   "source": [
    "But the &lt;title&gt; tag itself has a child: the string “The Dormouse’s story”. There’s a sense in which that string is also a child of the &lt;head&gt; tag. The .descendants attribute lets you iterate over all of a tag’s children, recursively: its direct children, the children of its direct children, and so on:"
   ]
  },
  {
   "cell_type": "code",
   "execution_count": 343,
   "id": "34e2a2a0",
   "metadata": {},
   "outputs": [
    {
     "name": "stdout",
     "output_type": "stream",
     "text": [
      "<title>The Dormouse's story</title>\n",
      "The Dormouse's story\n"
     ]
    }
   ],
   "source": [
    "for child in head_tag.descendants:\n",
    "    print(child)"
   ]
  },
  {
   "cell_type": "markdown",
   "id": "c33a2518",
   "metadata": {},
   "source": [
    "The &lt;head&gt; tag has only one child, but it has two descendants: the <title> tag and the &lt;title&gt; tag’s child. The BeautifulSoup object only has one direct child (the &lt;html&gt; tag), but it has a whole lot of descendants:"
   ]
  },
  {
   "cell_type": "code",
   "execution_count": 218,
   "id": "477c1e37",
   "metadata": {},
   "outputs": [
    {
     "data": {
      "text/plain": [
       "1"
      ]
     },
     "execution_count": 218,
     "metadata": {},
     "output_type": "execute_result"
    }
   ],
   "source": [
    "len(list(soup.children))"
   ]
  },
  {
   "cell_type": "code",
   "execution_count": 219,
   "id": "6713f927",
   "metadata": {},
   "outputs": [
    {
     "data": {
      "text/plain": [
       "26"
      ]
     },
     "execution_count": 219,
     "metadata": {},
     "output_type": "execute_result"
    }
   ],
   "source": [
    "len(list(soup.descendants))"
   ]
  },
  {
   "cell_type": "markdown",
   "id": "d4777650",
   "metadata": {},
   "source": [
    "#### .string\n",
    "If a tag has only one child, and that child is a NavigableString, the child is made available as .string:"
   ]
  },
  {
   "cell_type": "code",
   "execution_count": 220,
   "id": "4814cfae",
   "metadata": {},
   "outputs": [
    {
     "data": {
      "text/plain": [
       "\"The Dormouse's story\""
      ]
     },
     "execution_count": 220,
     "metadata": {},
     "output_type": "execute_result"
    }
   ],
   "source": [
    "title_tag.string"
   ]
  },
  {
   "cell_type": "markdown",
   "id": "6aa67d7e",
   "metadata": {},
   "source": [
    "If a tag’s only child is another tag, and that tag has a .string, then the parent tag is considered to have the same .string as its child:"
   ]
  },
  {
   "cell_type": "code",
   "execution_count": 221,
   "id": "647ac76b",
   "metadata": {},
   "outputs": [
    {
     "data": {
      "text/plain": [
       "[<title>The Dormouse's story</title>]"
      ]
     },
     "execution_count": 221,
     "metadata": {},
     "output_type": "execute_result"
    }
   ],
   "source": [
    "head_tag.contents"
   ]
  },
  {
   "cell_type": "code",
   "execution_count": 222,
   "id": "db82c86e",
   "metadata": {},
   "outputs": [
    {
     "data": {
      "text/plain": [
       "\"The Dormouse's story\""
      ]
     },
     "execution_count": 222,
     "metadata": {},
     "output_type": "execute_result"
    }
   ],
   "source": [
    "head_tag.string"
   ]
  },
  {
   "cell_type": "markdown",
   "id": "25273923",
   "metadata": {},
   "source": [
    "If a tag contains more than one thing, then it’s not clear what .string should refer to, so .string is defined to be None:"
   ]
  },
  {
   "cell_type": "code",
   "execution_count": 223,
   "id": "17a69a5d",
   "metadata": {},
   "outputs": [
    {
     "name": "stdout",
     "output_type": "stream",
     "text": [
      "None\n"
     ]
    }
   ],
   "source": [
    "print(soup.html.string)"
   ]
  },
  {
   "cell_type": "markdown",
   "id": "4bdaa1c6",
   "metadata": {},
   "source": [
    "#### .strings and stripped_strings\n",
    "If there’s more than one thing inside a tag, you can still look at just the strings. Use the .strings generator:"
   ]
  },
  {
   "cell_type": "code",
   "execution_count": 224,
   "id": "7ddaed97",
   "metadata": {},
   "outputs": [
    {
     "name": "stdout",
     "output_type": "stream",
     "text": [
      "\"The Dormouse's story\"\n",
      "'\\n'\n",
      "'\\n'\n",
      "\"The Dormouse's story\"\n",
      "'\\n'\n",
      "'Once upon a time there were three little sisters; and their names were\\n'\n",
      "'Elsie'\n",
      "',\\n'\n",
      "'Lacie'\n",
      "' and\\n'\n",
      "'Tillie'\n",
      "';\\nand they lived at the bottom of a well.'\n",
      "'\\n'\n",
      "'...'\n",
      "'\\n'\n"
     ]
    }
   ],
   "source": [
    "for string in soup.strings:\n",
    "    print(repr(string))\n",
    "    '\\n'"
   ]
  },
  {
   "cell_type": "markdown",
   "id": "95aaf27c",
   "metadata": {},
   "source": [
    "These strings tend to have a lot of extra whitespace, which you can remove by using the .stripped_strings generator instead:"
   ]
  },
  {
   "cell_type": "code",
   "execution_count": 225,
   "id": "e03a68d3",
   "metadata": {},
   "outputs": [
    {
     "name": "stdout",
     "output_type": "stream",
     "text": [
      "\"The Dormouse's story\"\n",
      "\"The Dormouse's story\"\n",
      "'Once upon a time there were three little sisters; and their names were'\n",
      "'Elsie'\n",
      "','\n",
      "'Lacie'\n",
      "'and'\n",
      "'Tillie'\n",
      "';\\nand they lived at the bottom of a well.'\n",
      "'...'\n"
     ]
    }
   ],
   "source": [
    "for string in soup.stripped_strings:\n",
    "    print(repr(string))"
   ]
  },
  {
   "cell_type": "markdown",
   "id": "a20ae5ba",
   "metadata": {},
   "source": [
    "Here, strings consisting entirely of whitespace are ignored, and whitespace at the beginning and end of strings is removed."
   ]
  },
  {
   "cell_type": "markdown",
   "id": "7a9402ed",
   "metadata": {},
   "source": [
    "### Going up\n",
    "Continuing the “family tree” analogy, every tag and every string has a parent: the tag that contains it.\n",
    "#### .parent\n",
    "You can access an element’s parent with the .parent attribute. In the example “three sisters” document, the &lt;head&gt; tag is the parent of the &lt;title&gt; tag:"
   ]
  },
  {
   "cell_type": "code",
   "execution_count": 226,
   "id": "d7ed07d1",
   "metadata": {},
   "outputs": [
    {
     "data": {
      "text/plain": [
       "<title>The Dormouse's story</title>"
      ]
     },
     "execution_count": 226,
     "metadata": {},
     "output_type": "execute_result"
    }
   ],
   "source": [
    "title_tag = soup.title\n",
    "title_tag"
   ]
  },
  {
   "cell_type": "code",
   "execution_count": 227,
   "id": "522d786b",
   "metadata": {},
   "outputs": [
    {
     "data": {
      "text/plain": [
       "<head><title>The Dormouse's story</title></head>"
      ]
     },
     "execution_count": 227,
     "metadata": {},
     "output_type": "execute_result"
    }
   ],
   "source": [
    "title_tag.parent"
   ]
  },
  {
   "cell_type": "markdown",
   "id": "7e28e145",
   "metadata": {},
   "source": [
    "The title string itself has a parent: the &lt;title&gt; tag that contains it:"
   ]
  },
  {
   "cell_type": "code",
   "execution_count": 228,
   "id": "35eafe8c",
   "metadata": {},
   "outputs": [
    {
     "data": {
      "text/plain": [
       "<title>The Dormouse's story</title>"
      ]
     },
     "execution_count": 228,
     "metadata": {},
     "output_type": "execute_result"
    }
   ],
   "source": [
    "title_tag.string.parent"
   ]
  },
  {
   "cell_type": "markdown",
   "id": "b363de15",
   "metadata": {},
   "source": [
    "The parent of a top-level tag like &lt;html&gt; is the BeautifulSoup object itself:"
   ]
  },
  {
   "cell_type": "code",
   "execution_count": 229,
   "id": "8a90a06c",
   "metadata": {},
   "outputs": [
    {
     "data": {
      "text/plain": [
       "bs4.BeautifulSoup"
      ]
     },
     "execution_count": 229,
     "metadata": {},
     "output_type": "execute_result"
    }
   ],
   "source": [
    "html_tag = soup.html\n",
    "type(html_tag.parent)"
   ]
  },
  {
   "cell_type": "markdown",
   "id": "0d379ea0",
   "metadata": {},
   "source": [
    "#### .parents\n",
    "You can iterate over all of an element’s parents with .parents. This example uses .parents to travel from an &lt;a&gt; tag buried deep within the document, to the very top of the document:"
   ]
  },
  {
   "cell_type": "code",
   "execution_count": 230,
   "id": "92d166df",
   "metadata": {},
   "outputs": [
    {
     "data": {
      "text/plain": [
       "<a class=\"sister\" href=\"http://example.com/elsie\" id=\"link1\">Elsie</a>"
      ]
     },
     "execution_count": 230,
     "metadata": {},
     "output_type": "execute_result"
    }
   ],
   "source": [
    "link = soup.a\n",
    "link"
   ]
  },
  {
   "cell_type": "code",
   "execution_count": 231,
   "id": "9bab9067",
   "metadata": {},
   "outputs": [
    {
     "name": "stdout",
     "output_type": "stream",
     "text": [
      "p\n",
      "body\n",
      "html\n",
      "[document]\n"
     ]
    }
   ],
   "source": [
    "for parent in link.parents:\n",
    "    print(parent.name)"
   ]
  },
  {
   "cell_type": "markdown",
   "id": "bc11d320",
   "metadata": {},
   "source": [
    "### Going sideways\n",
    "Consider a simple document like this:"
   ]
  },
  {
   "cell_type": "code",
   "execution_count": 232,
   "id": "b188c317",
   "metadata": {},
   "outputs": [
    {
     "name": "stdout",
     "output_type": "stream",
     "text": [
      "<a>\n",
      " <b>\n",
      "  text1\n",
      " </b>\n",
      " <c>\n",
      "  text2\n",
      " </c>\n",
      "</a>\n"
     ]
    }
   ],
   "source": [
    "sibling_soup = BeautifulSoup(\"<a><b>text1</b><c>text2</c></a>\", 'html.parser')\n",
    "print(sibling_soup.prettify())"
   ]
  },
  {
   "cell_type": "markdown",
   "id": "44b695ad",
   "metadata": {},
   "source": [
    "The &lt;b&gt; tag and the &lt;c&gt; tag are at the same level: they’re both direct children of the same tag. We call them siblings. When a document is pretty-printed, siblings show up at the same indentation level. You can also use this relationship in the code you write."
   ]
  },
  {
   "cell_type": "markdown",
   "id": "50649f53",
   "metadata": {},
   "source": [
    "#### .next_sibling and .previous_sibling\n",
    "You can use .next_sibling and .previous_sibling to navigate between page elements that are on the same level of the parse tree:"
   ]
  },
  {
   "cell_type": "code",
   "execution_count": 233,
   "id": "cc1222ae",
   "metadata": {},
   "outputs": [
    {
     "data": {
      "text/plain": [
       "<c>text2</c>"
      ]
     },
     "execution_count": 233,
     "metadata": {},
     "output_type": "execute_result"
    }
   ],
   "source": [
    "sibling_soup.b.next_sibling"
   ]
  },
  {
   "cell_type": "code",
   "execution_count": 234,
   "id": "a159020d",
   "metadata": {},
   "outputs": [
    {
     "data": {
      "text/plain": [
       "<b>text1</b>"
      ]
     },
     "execution_count": 234,
     "metadata": {},
     "output_type": "execute_result"
    }
   ],
   "source": [
    "sibling_soup.c.previous_sibling"
   ]
  },
  {
   "cell_type": "markdown",
   "id": "ae613c35",
   "metadata": {},
   "source": [
    "The &lt;b&gt; tag has a .next_sibling, but no .previous_sibling, because there’s nothing before the &lt;b&gt; tag on the same level of the tree. For the same reason, the <c> tag has a .previous_sibling but no .next_sibling:"
   ]
  },
  {
   "cell_type": "code",
   "execution_count": 235,
   "id": "49128ff0",
   "metadata": {},
   "outputs": [
    {
     "name": "stdout",
     "output_type": "stream",
     "text": [
      "None\n"
     ]
    }
   ],
   "source": [
    "print(sibling_soup.b.previous_sibling)"
   ]
  },
  {
   "cell_type": "code",
   "execution_count": 236,
   "id": "1e62b9b3",
   "metadata": {},
   "outputs": [
    {
     "name": "stdout",
     "output_type": "stream",
     "text": [
      "None\n"
     ]
    }
   ],
   "source": [
    "print(sibling_soup.c.next_sibling)"
   ]
  },
  {
   "cell_type": "markdown",
   "id": "39714321",
   "metadata": {},
   "source": [
    "The strings “text1” and “text2” are not siblings, because they don’t have the same parent:"
   ]
  },
  {
   "cell_type": "code",
   "execution_count": 237,
   "id": "9082da7b",
   "metadata": {},
   "outputs": [
    {
     "data": {
      "text/plain": [
       "'text1'"
      ]
     },
     "execution_count": 237,
     "metadata": {},
     "output_type": "execute_result"
    }
   ],
   "source": [
    "sibling_soup.b.string"
   ]
  },
  {
   "cell_type": "code",
   "execution_count": 238,
   "id": "848a8b64",
   "metadata": {},
   "outputs": [
    {
     "name": "stdout",
     "output_type": "stream",
     "text": [
      "None\n"
     ]
    }
   ],
   "source": [
    "print(sibling_soup.b.string.next_sibling)"
   ]
  },
  {
   "cell_type": "markdown",
   "id": "c7d2aa6e",
   "metadata": {},
   "source": [
    "In real documents, the .next_sibling or .previous_sibling of a tag will usually be a string containing whitespace. Going back to the “three sisters” document:  \n",
    "  \n",
    "&lt;a href=\"http://example.com/elsie\" class=\"sister\" id=\"link1\">Elsie&lt;/a>  \n",
    "&lt;a href=\"http://example.com/lacie\" class=\"sister\" id=\"link2\">Lacie&lt;/a>  \n",
    "&lt;a href=\"http://example.com/tillie\" class=\"sister\" id=\"link3\">Tillie&lt;/a>  \n",
    "\n",
    "You might think that the .next_sibling of the first &lt;a> tag would be the second &lt;a> tag. But actually, it’s a string: the comma and newline that separate the first &lt;a> tag from the second:\n"
   ]
  },
  {
   "cell_type": "code",
   "execution_count": 239,
   "id": "169e89cd",
   "metadata": {},
   "outputs": [
    {
     "data": {
      "text/plain": [
       "<a class=\"sister\" href=\"http://example.com/elsie\" id=\"link1\">Elsie</a>"
      ]
     },
     "execution_count": 239,
     "metadata": {},
     "output_type": "execute_result"
    }
   ],
   "source": [
    "link = soup.a\n",
    "link"
   ]
  },
  {
   "cell_type": "code",
   "execution_count": 240,
   "id": "6a717d88",
   "metadata": {},
   "outputs": [
    {
     "data": {
      "text/plain": [
       "',\\n'"
      ]
     },
     "execution_count": 240,
     "metadata": {},
     "output_type": "execute_result"
    }
   ],
   "source": [
    "link.next_sibling"
   ]
  },
  {
   "cell_type": "markdown",
   "id": "ff05bb07",
   "metadata": {},
   "source": [
    "The second &lt;a> tag is actually the .next_sibling of the comma:"
   ]
  },
  {
   "cell_type": "code",
   "execution_count": 241,
   "id": "5106c6a1",
   "metadata": {},
   "outputs": [
    {
     "data": {
      "text/plain": [
       "<a class=\"sister\" href=\"http://example.com/lacie\" id=\"link2\">Lacie</a>"
      ]
     },
     "execution_count": 241,
     "metadata": {},
     "output_type": "execute_result"
    }
   ],
   "source": [
    "link.next_sibling.next_sibling"
   ]
  },
  {
   "cell_type": "markdown",
   "id": "f1839a04",
   "metadata": {},
   "source": [
    "#### .next_siblings and .previous_siblings\n",
    "You can iterate over a tag’s siblings with .next_siblings or .previous_siblings:"
   ]
  },
  {
   "cell_type": "code",
   "execution_count": 242,
   "id": "a8afc45b",
   "metadata": {},
   "outputs": [
    {
     "name": "stdout",
     "output_type": "stream",
     "text": [
      "',\\n'\n",
      "<a class=\"sister\" href=\"http://example.com/lacie\" id=\"link2\">Lacie</a>\n",
      "' and\\n'\n",
      "<a class=\"sister\" href=\"http://example.com/tillie\" id=\"link3\">Tillie</a>\n",
      "';\\nand they lived at the bottom of a well.'\n"
     ]
    }
   ],
   "source": [
    "for sibling in soup.a.next_siblings:\n",
    "    print(repr(sibling))"
   ]
  },
  {
   "cell_type": "code",
   "execution_count": 243,
   "id": "9c2d6848",
   "metadata": {},
   "outputs": [
    {
     "name": "stdout",
     "output_type": "stream",
     "text": [
      "' and\\n'\n",
      "<a class=\"sister\" href=\"http://example.com/lacie\" id=\"link2\">Lacie</a>\n",
      "',\\n'\n",
      "<a class=\"sister\" href=\"http://example.com/elsie\" id=\"link1\">Elsie</a>\n",
      "'Once upon a time there were three little sisters; and their names were\\n'\n"
     ]
    }
   ],
   "source": [
    "for sibling in soup.find(id=\"link3\").previous_siblings:\n",
    "    print(repr(sibling))"
   ]
  },
  {
   "cell_type": "markdown",
   "id": "2fea2338",
   "metadata": {},
   "source": [
    "### Going back and forth\n",
    "Take a look at the beginning of the “three sisters” document:"
   ]
  },
  {
   "cell_type": "code",
   "execution_count": 244,
   "id": "743ac145",
   "metadata": {},
   "outputs": [],
   "source": [
    "# <html><head><title>The Dormouse's story</title></head>\n",
    "# <p class=\"title\"><b>The Dormouse's story</b></p>"
   ]
  },
  {
   "cell_type": "markdown",
   "id": "56720e20",
   "metadata": {},
   "source": [
    "An HTML parser takes this string of characters and turns it into a series of events: “open an &lt;html> tag”, “open a &lt;head> tag”, “open a &lt;title> tag”, “add a string”, “close the &lt;title> tag”, “open a &lt;p> tag”, and so on. Beautiful Soup offers tools for reconstructing the initial parse of the document."
   ]
  },
  {
   "cell_type": "markdown",
   "id": "f8037b6a",
   "metadata": {},
   "source": [
    "#### .next_element and .previous_element\n",
    "The .next_element attribute of a string or tag points to whatever was parsed immediately afterwards. It might be the same as .next_sibling, but it’s usually drastically different.\n",
    "  \n",
    "Here’s the final &lt;a> tag in the “three sisters” document. Its .next_sibling is a string: the conclusion of the sentence that was interrupted by the start of the &lt;a> tag.:"
   ]
  },
  {
   "cell_type": "code",
   "execution_count": 245,
   "id": "35f53289",
   "metadata": {},
   "outputs": [
    {
     "data": {
      "text/plain": [
       "<a class=\"sister\" href=\"http://example.com/tillie\" id=\"link3\">Tillie</a>"
      ]
     },
     "execution_count": 245,
     "metadata": {},
     "output_type": "execute_result"
    }
   ],
   "source": [
    "last_a_tag = soup.find(\"a\", id=\"link3\")\n",
    "last_a_tag"
   ]
  },
  {
   "cell_type": "code",
   "execution_count": 246,
   "id": "be9cee6f",
   "metadata": {},
   "outputs": [
    {
     "data": {
      "text/plain": [
       "';\\nand they lived at the bottom of a well.'"
      ]
     },
     "execution_count": 246,
     "metadata": {},
     "output_type": "execute_result"
    }
   ],
   "source": [
    "last_a_tag.next_sibling"
   ]
  },
  {
   "cell_type": "markdown",
   "id": "56a52b97",
   "metadata": {},
   "source": [
    "But the .next_element of that &lt;a> tag, the thing that was parsed immediately after the &lt;a> tag, is not the rest of that sentence: it’s the word “Tillie”:"
   ]
  },
  {
   "cell_type": "code",
   "execution_count": 247,
   "id": "4bbc2353",
   "metadata": {},
   "outputs": [
    {
     "data": {
      "text/plain": [
       "'Tillie'"
      ]
     },
     "execution_count": 247,
     "metadata": {},
     "output_type": "execute_result"
    }
   ],
   "source": [
    "last_a_tag.next_element"
   ]
  },
  {
   "cell_type": "markdown",
   "id": "99f405bc",
   "metadata": {},
   "source": [
    "That’s because in the original markup, the word “Tillie” appeared before that semicolon. The parser encountered an &lt;a> tag, then the word “Tillie”, then the closing &;t/a> tag, then the semicolon and rest of the sentence. The semicolon is on the same level as the &lt;a> tag, but the word “Tillie” was encountered first.\n",
    "\n",
    "The .previous_element attribute is the exact opposite of .next_element. It points to whatever element was parsed immediately before this one:"
   ]
  },
  {
   "cell_type": "code",
   "execution_count": 248,
   "id": "75fd7682",
   "metadata": {},
   "outputs": [
    {
     "data": {
      "text/plain": [
       "' and\\n'"
      ]
     },
     "execution_count": 248,
     "metadata": {},
     "output_type": "execute_result"
    }
   ],
   "source": [
    "last_a_tag.previous_element"
   ]
  },
  {
   "cell_type": "code",
   "execution_count": 249,
   "id": "642b71f2",
   "metadata": {},
   "outputs": [
    {
     "data": {
      "text/plain": [
       "<a class=\"sister\" href=\"http://example.com/tillie\" id=\"link3\">Tillie</a>"
      ]
     },
     "execution_count": 249,
     "metadata": {},
     "output_type": "execute_result"
    }
   ],
   "source": [
    "last_a_tag.previous_element.next_element"
   ]
  },
  {
   "cell_type": "markdown",
   "id": "b2b3c00d",
   "metadata": {},
   "source": [
    "#### .next_elements and .previous_elements\n",
    "You should get the idea by now. You can use these iterators to move forward or backward in the document as it was parsed:"
   ]
  },
  {
   "cell_type": "code",
   "execution_count": 250,
   "id": "fa3bff69",
   "metadata": {},
   "outputs": [
    {
     "name": "stdout",
     "output_type": "stream",
     "text": [
      "'Tillie'\n",
      "';\\nand they lived at the bottom of a well.'\n",
      "'\\n'\n",
      "<p class=\"story\">...</p>\n",
      "'...'\n",
      "'\\n'\n"
     ]
    }
   ],
   "source": [
    "for element in last_a_tag.next_elements:\n",
    "    print(repr(element))"
   ]
  },
  {
   "cell_type": "markdown",
   "id": "dd8575fd",
   "metadata": {},
   "source": [
    "## Searching the tree\n",
    "Beautiful Soup defines a lot of methods for searching the parse tree, but they’re all very similar. I’m going to spend a lot of time explaining the two most popular methods: find() and find_all(). The other methods take almost exactly the same arguments, so I’ll just cover them briefly.\n",
    "\n",
    "Once again, I’ll be using the “three sisters” document as an example:"
   ]
  },
  {
   "cell_type": "code",
   "execution_count": 251,
   "id": "1a1a1e8a",
   "metadata": {},
   "outputs": [],
   "source": [
    "html_doc = \"\"\"\n",
    "<html><head><title>The Dormouse's story</title></head>\n",
    "<body>\n",
    "<p class=\"title\"><b>The Dormouse's story</b></p>\n",
    "\n",
    "<p class=\"story\">Once upon a time there were three little sisters; and their names were\n",
    "<a href=\"http://example.com/elsie\" class=\"sister\" id=\"link1\">Elsie</a>,\n",
    "<a href=\"http://example.com/lacie\" class=\"sister\" id=\"link2\">Lacie</a> and\n",
    "<a href=\"http://example.com/tillie\" class=\"sister\" id=\"link3\">Tillie</a>;\n",
    "and they lived at the bottom of a well.</p>\n",
    "\n",
    "<p class=\"story\">...</p>\n",
    "\"\"\"\n",
    "\n",
    "from bs4 import BeautifulSoup\n",
    "soup = BeautifulSoup(html_doc, 'html.parser')"
   ]
  },
  {
   "cell_type": "markdown",
   "id": "3ce94812",
   "metadata": {},
   "source": [
    "By passing in a filter to an argument like find_all(), you can zoom in on the parts of the document you’re interested in."
   ]
  },
  {
   "cell_type": "markdown",
   "id": "b202285c",
   "metadata": {},
   "source": [
    "### Kinds of filters\n",
    "Before talking in detail about find_all() and similar methods, I want to show examples of different filters you can pass into these methods. These filters show up again and again, throughout the search API. You can use them to filter based on a tag’s name, on its attributes, on the text of a string, or on some combination of these.\n",
    "#### A string\n",
    "The simplest filter is a string. Pass a string to a search method and Beautiful Soup will perform a match against that exact string. This code finds all the &lt;b> tags in the document:"
   ]
  },
  {
   "cell_type": "code",
   "execution_count": 252,
   "id": "22c13b75",
   "metadata": {},
   "outputs": [
    {
     "data": {
      "text/plain": [
       "[<b>The Dormouse's story</b>]"
      ]
     },
     "execution_count": 252,
     "metadata": {},
     "output_type": "execute_result"
    }
   ],
   "source": [
    "soup.find_all('b')"
   ]
  },
  {
   "cell_type": "markdown",
   "id": "d118813c",
   "metadata": {},
   "source": [
    "If you pass in a byte string, Beautiful Soup will assume the string is encoded as UTF-8. You can avoid this by passing in a Unicode string instead.\n",
    "#### A regular expression\n",
    "If you pass in a regular expression object, Beautiful Soup will filter against that regular expression using its search() method. This code finds all the tags whose names start with the letter “b”; in this case, the &lt;body> tag and the &lt;b> tag:"
   ]
  },
  {
   "cell_type": "code",
   "execution_count": 253,
   "id": "276020a4",
   "metadata": {},
   "outputs": [
    {
     "name": "stdout",
     "output_type": "stream",
     "text": [
      "body\n",
      "b\n"
     ]
    }
   ],
   "source": [
    "import re\n",
    "for tag in soup.find_all(re.compile(\"^b\")):\n",
    "    print(tag.name)"
   ]
  },
  {
   "cell_type": "markdown",
   "id": "556b75cb",
   "metadata": {},
   "source": [
    "This code finds all the tags whose names contain the letter ‘t’:"
   ]
  },
  {
   "cell_type": "code",
   "execution_count": 254,
   "id": "0da29090",
   "metadata": {},
   "outputs": [
    {
     "name": "stdout",
     "output_type": "stream",
     "text": [
      "html\n",
      "title\n"
     ]
    }
   ],
   "source": [
    "for tag in soup.find_all(re.compile(\"t\")):\n",
    "    print(tag.name)"
   ]
  },
  {
   "cell_type": "markdown",
   "id": "57486dcb",
   "metadata": {},
   "source": [
    "#### A list\n",
    "If you pass in a list, Beautiful Soup will allow a string match against any item in that list. This code finds all the &lt;a> tags **and** all the &lt;b> tags:"
   ]
  },
  {
   "cell_type": "code",
   "execution_count": 255,
   "id": "933caf51",
   "metadata": {},
   "outputs": [
    {
     "data": {
      "text/plain": [
       "[<b>The Dormouse's story</b>,\n",
       " <a class=\"sister\" href=\"http://example.com/elsie\" id=\"link1\">Elsie</a>,\n",
       " <a class=\"sister\" href=\"http://example.com/lacie\" id=\"link2\">Lacie</a>,\n",
       " <a class=\"sister\" href=\"http://example.com/tillie\" id=\"link3\">Tillie</a>]"
      ]
     },
     "execution_count": 255,
     "metadata": {},
     "output_type": "execute_result"
    }
   ],
   "source": [
    "soup.find_all([\"a\", \"b\"])"
   ]
  },
  {
   "cell_type": "markdown",
   "id": "526f305d",
   "metadata": {},
   "source": [
    "#### True\n",
    "The value True matches everything it can. This code finds all the tags in the document, but none of the text strings:"
   ]
  },
  {
   "cell_type": "code",
   "execution_count": 256,
   "id": "8b4c042a",
   "metadata": {},
   "outputs": [
    {
     "name": "stdout",
     "output_type": "stream",
     "text": [
      "html\n",
      "head\n",
      "title\n",
      "body\n",
      "p\n",
      "b\n",
      "p\n",
      "a\n",
      "a\n",
      "a\n",
      "p\n"
     ]
    }
   ],
   "source": [
    "for tag in soup.find_all(True):\n",
    "    print(tag.name)"
   ]
  },
  {
   "cell_type": "markdown",
   "id": "761d2a2c",
   "metadata": {},
   "source": [
    "#### A function\n",
    "If none of the other matches work for you, define a function that takes an element as its only argument. The function should return True if the argument matches, and False otherwise.\n",
    "\n",
    "Here’s a function that returns True if a tag defines the “class” attribute but doesn’t define the “id” attribute:"
   ]
  },
  {
   "cell_type": "code",
   "execution_count": 257,
   "id": "0084c8ad",
   "metadata": {},
   "outputs": [],
   "source": [
    "def has_class_but_no_id(tag):\n",
    "    return tag.has_attr('class') and not tag.has_attr('id')"
   ]
  },
  {
   "cell_type": "markdown",
   "id": "ffe06120",
   "metadata": {},
   "source": [
    "Pass this function into find_all() and you’ll pick up all the &lt;p> tags:"
   ]
  },
  {
   "cell_type": "code",
   "execution_count": 258,
   "id": "6e2b2459",
   "metadata": {},
   "outputs": [
    {
     "data": {
      "text/plain": [
       "[<p class=\"title\"><b>The Dormouse's story</b></p>,\n",
       " <p class=\"story\">Once upon a time there were three little sisters; and their names were\n",
       " <a class=\"sister\" href=\"http://example.com/elsie\" id=\"link1\">Elsie</a>,\n",
       " <a class=\"sister\" href=\"http://example.com/lacie\" id=\"link2\">Lacie</a> and\n",
       " <a class=\"sister\" href=\"http://example.com/tillie\" id=\"link3\">Tillie</a>;\n",
       " and they lived at the bottom of a well.</p>,\n",
       " <p class=\"story\">...</p>]"
      ]
     },
     "execution_count": 258,
     "metadata": {},
     "output_type": "execute_result"
    }
   ],
   "source": [
    "soup.find_all(has_class_but_no_id)"
   ]
  },
  {
   "cell_type": "markdown",
   "id": "a514e3f3",
   "metadata": {},
   "source": [
    "This function only picks up the &lt;p> tags. It doesn’t pick up the &lt;a> tags, because those tags define both “class” and “id”. It doesn’t pick up tags like &lt;html> and &lt;title>, because those tags don’t define “class”.\n",
    "\n",
    "If you pass in a function to filter on a specific attribute like href, the argument passed into the function will be the attribute value, not the whole tag. Here’s a function that finds all a tags whose href attribute does not match a regular expression:"
   ]
  },
  {
   "cell_type": "code",
   "execution_count": 259,
   "id": "f67f61ac",
   "metadata": {},
   "outputs": [
    {
     "data": {
      "text/plain": [
       "[<a class=\"sister\" href=\"http://example.com/elsie\" id=\"link1\">Elsie</a>,\n",
       " <a class=\"sister\" href=\"http://example.com/tillie\" id=\"link3\">Tillie</a>]"
      ]
     },
     "execution_count": 259,
     "metadata": {},
     "output_type": "execute_result"
    }
   ],
   "source": [
    "import re\n",
    "def not_lacie(href):\n",
    "    return href and not re.compile(\"lacie\").search(href)\n",
    "\n",
    "soup.find_all(href=not_lacie)"
   ]
  },
  {
   "cell_type": "markdown",
   "id": "514c19d9",
   "metadata": {},
   "source": [
    "The function can be as complicated as you need it to be. Here’s a function that returns True if a tag is surrounded by string objects:"
   ]
  },
  {
   "cell_type": "code",
   "execution_count": 260,
   "id": "25f79126",
   "metadata": {},
   "outputs": [
    {
     "name": "stdout",
     "output_type": "stream",
     "text": [
      "body\n",
      "p\n",
      "a\n",
      "a\n",
      "a\n",
      "p\n"
     ]
    }
   ],
   "source": [
    "from bs4 import NavigableString\n",
    "def surrounded_by_strings(tag):\n",
    "    return (isinstance(tag.next_element, NavigableString)\n",
    "            and isinstance(tag.previous_element, NavigableString))\n",
    "\n",
    "for tag in soup.find_all(surrounded_by_strings):\n",
    "    print(tag.name)"
   ]
  },
  {
   "cell_type": "markdown",
   "id": "36271e35",
   "metadata": {},
   "source": [
    "Now we’re ready to look at the search methods in detail."
   ]
  },
  {
   "cell_type": "markdown",
   "id": "cb50a032",
   "metadata": {},
   "source": [
    "#### find_all()\n",
    " \n",
    "Method signature: find_all(name, attrs, recursive, string, limit, **kwargs)\n",
    "\n",
    "The find_all() method looks through a tag’s descendants and retrieves all descendants that match your filters. I gave several examples in Kinds of filters, but here are a few more:"
   ]
  },
  {
   "cell_type": "code",
   "execution_count": 261,
   "id": "7216b963",
   "metadata": {},
   "outputs": [
    {
     "data": {
      "text/plain": [
       "[<title>The Dormouse's story</title>]"
      ]
     },
     "execution_count": 261,
     "metadata": {},
     "output_type": "execute_result"
    }
   ],
   "source": [
    "soup.find_all(\"title\")"
   ]
  },
  {
   "cell_type": "code",
   "execution_count": 262,
   "id": "5662da1e",
   "metadata": {},
   "outputs": [
    {
     "data": {
      "text/plain": [
       "[<p class=\"title\"><b>The Dormouse's story</b></p>]"
      ]
     },
     "execution_count": 262,
     "metadata": {},
     "output_type": "execute_result"
    }
   ],
   "source": [
    "soup.find_all(\"p\", \"title\")"
   ]
  },
  {
   "cell_type": "code",
   "execution_count": 263,
   "id": "b2d9bfe0",
   "metadata": {},
   "outputs": [
    {
     "data": {
      "text/plain": [
       "[<a class=\"sister\" href=\"http://example.com/elsie\" id=\"link1\">Elsie</a>,\n",
       " <a class=\"sister\" href=\"http://example.com/lacie\" id=\"link2\">Lacie</a>,\n",
       " <a class=\"sister\" href=\"http://example.com/tillie\" id=\"link3\">Tillie</a>]"
      ]
     },
     "execution_count": 263,
     "metadata": {},
     "output_type": "execute_result"
    }
   ],
   "source": [
    "soup.find_all(\"a\")"
   ]
  },
  {
   "cell_type": "code",
   "execution_count": 264,
   "id": "1d4090a9",
   "metadata": {},
   "outputs": [
    {
     "data": {
      "text/plain": [
       "[<a class=\"sister\" href=\"http://example.com/lacie\" id=\"link2\">Lacie</a>]"
      ]
     },
     "execution_count": 264,
     "metadata": {},
     "output_type": "execute_result"
    }
   ],
   "source": [
    "soup.find_all(id=\"link2\")"
   ]
  },
  {
   "cell_type": "code",
   "execution_count": 265,
   "id": "b241973c",
   "metadata": {},
   "outputs": [
    {
     "data": {
      "text/plain": [
       "'Once upon a time there were three little sisters; and their names were\\n'"
      ]
     },
     "execution_count": 265,
     "metadata": {},
     "output_type": "execute_result"
    }
   ],
   "source": [
    "import re\n",
    "soup.find(string=re.compile(\"sisters\"))"
   ]
  },
  {
   "cell_type": "markdown",
   "id": "ead579b7",
   "metadata": {},
   "source": [
    "Some of these should look familiar, but others are new. What does it mean to pass in a value for string, or id? Why does find_all(\"p\", \"title\") find a <p> tag with the CSS class “title”? Let’s look at the arguments to find_all()."
   ]
  },
  {
   "cell_type": "markdown",
   "id": "3d4e9d7c",
   "metadata": {},
   "source": [
    "#### The name argument\n",
    "Pass in a value for name and you’ll tell Beautiful Soup to only consider tags with certain names. Text strings will be ignored, as will tags whose names that don’t match.\n",
    "\n",
    "This is the simplest usage:"
   ]
  },
  {
   "cell_type": "code",
   "execution_count": 266,
   "id": "52d032ee",
   "metadata": {},
   "outputs": [
    {
     "data": {
      "text/plain": [
       "[<title>The Dormouse's story</title>]"
      ]
     },
     "execution_count": 266,
     "metadata": {},
     "output_type": "execute_result"
    }
   ],
   "source": [
    "soup.find_all(\"title\")"
   ]
  },
  {
   "cell_type": "markdown",
   "id": "1678e122",
   "metadata": {},
   "source": [
    "Recall from Kinds of filters that the value to name can be a string, a regular expression, a list, a function, or the value True."
   ]
  },
  {
   "cell_type": "markdown",
   "id": "7eb77cb7",
   "metadata": {},
   "source": [
    "#### The keyword arguments\n",
    "Any argument that’s not recognized will be turned into a filter on one of a tag’s attributes. If you pass in a value for an argument called id, Beautiful Soup will filter against each tag’s ‘id’ attribute:"
   ]
  },
  {
   "cell_type": "code",
   "execution_count": 267,
   "id": "e893691f",
   "metadata": {},
   "outputs": [
    {
     "data": {
      "text/plain": [
       "[<a class=\"sister\" href=\"http://example.com/lacie\" id=\"link2\">Lacie</a>]"
      ]
     },
     "execution_count": 267,
     "metadata": {},
     "output_type": "execute_result"
    }
   ],
   "source": [
    "soup.find_all(id='link2')"
   ]
  },
  {
   "cell_type": "markdown",
   "id": "0fbacba4",
   "metadata": {},
   "source": [
    "If you pass in a value for href, Beautiful Soup will filter against each tag’s ‘href’ attribute:"
   ]
  },
  {
   "cell_type": "code",
   "execution_count": 268,
   "id": "96868b60",
   "metadata": {},
   "outputs": [
    {
     "data": {
      "text/plain": [
       "[<a class=\"sister\" href=\"http://example.com/elsie\" id=\"link1\">Elsie</a>]"
      ]
     },
     "execution_count": 268,
     "metadata": {},
     "output_type": "execute_result"
    }
   ],
   "source": [
    "soup.find_all(href=re.compile(\"elsie\"))"
   ]
  },
  {
   "cell_type": "markdown",
   "id": "3aeeb978",
   "metadata": {},
   "source": [
    "You can filter an attribute based on a string, a regular expression, a list, a function, or the value True.\n",
    "\n",
    "This code finds all tags whose id attribute has a value, regardless of what the value is:"
   ]
  },
  {
   "cell_type": "code",
   "execution_count": 269,
   "id": "99323d81",
   "metadata": {},
   "outputs": [
    {
     "data": {
      "text/plain": [
       "[<a class=\"sister\" href=\"http://example.com/elsie\" id=\"link1\">Elsie</a>,\n",
       " <a class=\"sister\" href=\"http://example.com/lacie\" id=\"link2\">Lacie</a>,\n",
       " <a class=\"sister\" href=\"http://example.com/tillie\" id=\"link3\">Tillie</a>]"
      ]
     },
     "execution_count": 269,
     "metadata": {},
     "output_type": "execute_result"
    }
   ],
   "source": [
    "soup.find_all(id=True)"
   ]
  },
  {
   "cell_type": "markdown",
   "id": "b2a1cc80",
   "metadata": {},
   "source": [
    "You can filter multiple attributes at once by passing in more than one keyword argument:"
   ]
  },
  {
   "cell_type": "code",
   "execution_count": 270,
   "id": "268420e8",
   "metadata": {},
   "outputs": [
    {
     "data": {
      "text/plain": [
       "[<a class=\"sister\" href=\"http://example.com/elsie\" id=\"link1\">Elsie</a>]"
      ]
     },
     "execution_count": 270,
     "metadata": {},
     "output_type": "execute_result"
    }
   ],
   "source": [
    "soup.find_all(href=re.compile(\"elsie\"), id='link1')"
   ]
  },
  {
   "cell_type": "markdown",
   "id": "dce4cbd9",
   "metadata": {},
   "source": [
    "Some attributes, like the data-* attributes in HTML 5, have names that can’t be used as the names of keyword arguments:"
   ]
  },
  {
   "cell_type": "code",
   "execution_count": 271,
   "id": "90ab95f4",
   "metadata": {},
   "outputs": [],
   "source": [
    "data_soup = BeautifulSoup('<div data-foo=\"value\">foo!</div>', 'html.parser')\n",
    "# data_soup.find_all(data-foo=\"value\") - not going to work"
   ]
  },
  {
   "cell_type": "markdown",
   "id": "6be0d837",
   "metadata": {},
   "source": [
    "You can use these attributes in searches by putting them into a dictionary and passing the dictionary into find_all() as the attrs argument:"
   ]
  },
  {
   "cell_type": "code",
   "execution_count": 272,
   "id": "4b60e9c6",
   "metadata": {},
   "outputs": [
    {
     "data": {
      "text/plain": [
       "[<div data-foo=\"value\">foo!</div>]"
      ]
     },
     "execution_count": 272,
     "metadata": {},
     "output_type": "execute_result"
    }
   ],
   "source": [
    "data_soup.find_all(attrs={\"data-foo\": \"value\"})"
   ]
  },
  {
   "cell_type": "markdown",
   "id": "a44268a8",
   "metadata": {},
   "source": [
    "You can’t use a keyword argument to search for HTML’s ‘name’ element, because Beautiful Soup uses the name argument to contain the name of the tag itself. Instead, you can give a value to ‘name’ in the attrs argument:"
   ]
  },
  {
   "cell_type": "code",
   "execution_count": 273,
   "id": "8722cc2a",
   "metadata": {},
   "outputs": [
    {
     "data": {
      "text/plain": [
       "[]"
      ]
     },
     "execution_count": 273,
     "metadata": {},
     "output_type": "execute_result"
    }
   ],
   "source": [
    "name_soup = BeautifulSoup('<input name=\"email\"/>', 'html.parser')\n",
    "name_soup.find_all(name=\"email\") # does not work"
   ]
  },
  {
   "cell_type": "code",
   "execution_count": 274,
   "id": "b8f86db9",
   "metadata": {},
   "outputs": [
    {
     "data": {
      "text/plain": [
       "[<input name=\"email\"/>]"
      ]
     },
     "execution_count": 274,
     "metadata": {},
     "output_type": "execute_result"
    }
   ],
   "source": [
    "name_soup.find_all(attrs={\"name\": \"email\"})"
   ]
  },
  {
   "cell_type": "markdown",
   "id": "9756ae05",
   "metadata": {},
   "source": [
    "#### Searching by CSS class\n",
    "It’s very useful to search for a tag that has a certain CSS class, but the name of the CSS attribute, “class”, is a reserved word in Python. Using class as a keyword argument will give you a syntax error. As of Beautiful Soup 4.1.2, you can search by CSS class using the keyword argument class_:"
   ]
  },
  {
   "cell_type": "code",
   "execution_count": 275,
   "id": "14e6fbef",
   "metadata": {},
   "outputs": [
    {
     "data": {
      "text/plain": [
       "[<a class=\"sister\" href=\"http://example.com/elsie\" id=\"link1\">Elsie</a>,\n",
       " <a class=\"sister\" href=\"http://example.com/lacie\" id=\"link2\">Lacie</a>,\n",
       " <a class=\"sister\" href=\"http://example.com/tillie\" id=\"link3\">Tillie</a>]"
      ]
     },
     "execution_count": 275,
     "metadata": {},
     "output_type": "execute_result"
    }
   ],
   "source": [
    "soup.find_all(\"a\", class_=\"sister\")"
   ]
  },
  {
   "cell_type": "markdown",
   "id": "c1027dbe",
   "metadata": {},
   "source": [
    "As with any keyword argument, you can pass class_ a string, a regular expression, a function, or True:"
   ]
  },
  {
   "cell_type": "code",
   "execution_count": 276,
   "id": "d2dc70ef",
   "metadata": {},
   "outputs": [
    {
     "data": {
      "text/plain": [
       "[<p class=\"title\"><b>The Dormouse's story</b></p>]"
      ]
     },
     "execution_count": 276,
     "metadata": {},
     "output_type": "execute_result"
    }
   ],
   "source": [
    "soup.find_all(class_=re.compile(\"itl\")) # for our class \"title\""
   ]
  },
  {
   "cell_type": "code",
   "execution_count": 277,
   "id": "1393b350",
   "metadata": {},
   "outputs": [
    {
     "data": {
      "text/plain": [
       "[<a class=\"sister\" href=\"http://example.com/elsie\" id=\"link1\">Elsie</a>,\n",
       " <a class=\"sister\" href=\"http://example.com/lacie\" id=\"link2\">Lacie</a>,\n",
       " <a class=\"sister\" href=\"http://example.com/tillie\" id=\"link3\">Tillie</a>]"
      ]
     },
     "execution_count": 277,
     "metadata": {},
     "output_type": "execute_result"
    }
   ],
   "source": [
    "def has_six_characters(css_class):\n",
    "    return css_class is not None and len(css_class) == 6\n",
    "\n",
    "soup.find_all(class_=has_six_characters)"
   ]
  },
  {
   "cell_type": "markdown",
   "id": "3e71eaf7",
   "metadata": {},
   "source": [
    "Remember that a single tag can have multiple values for its “class” attribute. When you search for a tag that matches a certain CSS class, you’re matching against any of its CSS classes:"
   ]
  },
  {
   "cell_type": "code",
   "execution_count": 278,
   "id": "8fc8160e",
   "metadata": {},
   "outputs": [
    {
     "data": {
      "text/plain": [
       "[<p class=\"body strikeout\"></p>]"
      ]
     },
     "execution_count": 278,
     "metadata": {},
     "output_type": "execute_result"
    }
   ],
   "source": [
    "css_soup = BeautifulSoup('<p class=\"body strikeout\"></p>', 'html.parser')\n",
    "css_soup.find_all(\"p\", class_=\"strikeout\")"
   ]
  },
  {
   "cell_type": "code",
   "execution_count": 279,
   "id": "d707ad29",
   "metadata": {},
   "outputs": [
    {
     "data": {
      "text/plain": [
       "[<p class=\"body strikeout\"></p>]"
      ]
     },
     "execution_count": 279,
     "metadata": {},
     "output_type": "execute_result"
    }
   ],
   "source": [
    "css_soup.find_all(\"p\", class_=\"body\")"
   ]
  },
  {
   "cell_type": "markdown",
   "id": "f885b4ec",
   "metadata": {},
   "source": [
    "You can also search for the exact string value of the class attribute:"
   ]
  },
  {
   "cell_type": "code",
   "execution_count": 280,
   "id": "e9ae2506",
   "metadata": {},
   "outputs": [
    {
     "data": {
      "text/plain": [
       "[<p class=\"body strikeout\"></p>]"
      ]
     },
     "execution_count": 280,
     "metadata": {},
     "output_type": "execute_result"
    }
   ],
   "source": [
    "css_soup.find_all(\"p\", class_=\"body strikeout\")"
   ]
  },
  {
   "cell_type": "markdown",
   "id": "2b090f8e",
   "metadata": {},
   "source": [
    "But searching for variants of the string value won’t work:"
   ]
  },
  {
   "cell_type": "code",
   "execution_count": 281,
   "id": "f03fac2a",
   "metadata": {},
   "outputs": [
    {
     "data": {
      "text/plain": [
       "[]"
      ]
     },
     "execution_count": 281,
     "metadata": {},
     "output_type": "execute_result"
    }
   ],
   "source": [
    "css_soup.find_all(\"p\", class_=\"strikeout body\")"
   ]
  },
  {
   "cell_type": "markdown",
   "id": "c3b7328d",
   "metadata": {},
   "source": [
    "If you want to search for tags that match two or more CSS classes, you should use a CSS selector:"
   ]
  },
  {
   "cell_type": "code",
   "execution_count": 282,
   "id": "ce228e50",
   "metadata": {},
   "outputs": [
    {
     "data": {
      "text/plain": [
       "[<p class=\"body strikeout\"></p>]"
      ]
     },
     "execution_count": 282,
     "metadata": {},
     "output_type": "execute_result"
    }
   ],
   "source": [
    "css_soup.select(\"p.strikeout.body\")"
   ]
  },
  {
   "cell_type": "markdown",
   "id": "86a223f7",
   "metadata": {},
   "source": [
    "In older versions of Beautiful Soup, which don’t have the class_ shortcut, you can use the attrs trick mentioned above. Create a dictionary whose value for “class” is the string (or regular expression, or whatever) you want to search for:"
   ]
  },
  {
   "cell_type": "code",
   "execution_count": 283,
   "id": "fe77dbfd",
   "metadata": {},
   "outputs": [
    {
     "data": {
      "text/plain": [
       "[<a class=\"sister\" href=\"http://example.com/elsie\" id=\"link1\">Elsie</a>,\n",
       " <a class=\"sister\" href=\"http://example.com/lacie\" id=\"link2\">Lacie</a>,\n",
       " <a class=\"sister\" href=\"http://example.com/tillie\" id=\"link3\">Tillie</a>]"
      ]
     },
     "execution_count": 283,
     "metadata": {},
     "output_type": "execute_result"
    }
   ],
   "source": [
    "soup.find_all(\"a\", attrs={\"class\": \"sister\"})"
   ]
  },
  {
   "cell_type": "markdown",
   "id": "eb4813ee",
   "metadata": {},
   "source": [
    "#### The string argument\n",
    "With string you can search for strings instead of tags. As with name and the keyword arguments, you can pass in a string, a regular expression, a list, a function, or the value True. Here are some examples:\n"
   ]
  },
  {
   "cell_type": "code",
   "execution_count": 284,
   "id": "5639a8cf",
   "metadata": {},
   "outputs": [
    {
     "data": {
      "text/plain": [
       "['Elsie']"
      ]
     },
     "execution_count": 284,
     "metadata": {},
     "output_type": "execute_result"
    }
   ],
   "source": [
    "soup.find_all(string=\"Elsie\")"
   ]
  },
  {
   "cell_type": "code",
   "execution_count": 285,
   "id": "207f7525",
   "metadata": {},
   "outputs": [
    {
     "data": {
      "text/plain": [
       "['Elsie', 'Lacie', 'Tillie']"
      ]
     },
     "execution_count": 285,
     "metadata": {},
     "output_type": "execute_result"
    }
   ],
   "source": [
    "soup.find_all(string=[\"Tillie\", \"Elsie\", \"Lacie\"])"
   ]
  },
  {
   "cell_type": "code",
   "execution_count": 286,
   "id": "b95568ad",
   "metadata": {},
   "outputs": [
    {
     "data": {
      "text/plain": [
       "[\"The Dormouse's story\", \"The Dormouse's story\"]"
      ]
     },
     "execution_count": 286,
     "metadata": {},
     "output_type": "execute_result"
    }
   ],
   "source": [
    "soup.find_all(string=re.compile(\"Dormouse\"))"
   ]
  },
  {
   "cell_type": "code",
   "execution_count": 287,
   "id": "5fe208ce",
   "metadata": {},
   "outputs": [
    {
     "data": {
      "text/plain": [
       "[\"The Dormouse's story\",\n",
       " \"The Dormouse's story\",\n",
       " 'Elsie',\n",
       " 'Lacie',\n",
       " 'Tillie',\n",
       " '...']"
      ]
     },
     "execution_count": 287,
     "metadata": {},
     "output_type": "execute_result"
    }
   ],
   "source": [
    "def is_the_only_string_within_a_tag(s):\n",
    "    \"\"\"Return True if this string is the only child of its parent tag.\"\"\"\n",
    "    return (s == s.parent.string)\n",
    "\n",
    "soup.find_all(string=is_the_only_string_within_a_tag)"
   ]
  },
  {
   "cell_type": "markdown",
   "id": "3c12a94f",
   "metadata": {},
   "source": [
    "Although string is for finding strings, you can combine it with arguments that find tags: Beautiful Soup will find all tags whose .string matches your value for string. This code finds the &lt;a> tags whose .string is “Elsie”:"
   ]
  },
  {
   "cell_type": "code",
   "execution_count": 288,
   "id": "cd94d305",
   "metadata": {},
   "outputs": [
    {
     "data": {
      "text/plain": [
       "[<a class=\"sister\" href=\"http://example.com/elsie\" id=\"link1\">Elsie</a>]"
      ]
     },
     "execution_count": 288,
     "metadata": {},
     "output_type": "execute_result"
    }
   ],
   "source": [
    "soup.find_all(\"a\", string=\"Elsie\")"
   ]
  },
  {
   "cell_type": "markdown",
   "id": "0ae534c4",
   "metadata": {},
   "source": [
    "The string argument is new in Beautiful Soup 4.4.0. In earlier versions it was called text:"
   ]
  },
  {
   "cell_type": "code",
   "execution_count": 289,
   "id": "ed64ad31",
   "metadata": {},
   "outputs": [
    {
     "data": {
      "text/plain": [
       "[<a class=\"sister\" href=\"http://example.com/elsie\" id=\"link1\">Elsie</a>]"
      ]
     },
     "execution_count": 289,
     "metadata": {},
     "output_type": "execute_result"
    }
   ],
   "source": [
    "soup.find_all(\"a\", text=\"Elsie\")"
   ]
  },
  {
   "cell_type": "markdown",
   "id": "51431456",
   "metadata": {},
   "source": [
    "#### The limit argument\n",
    "\n",
    "find_all() returns all the tags and strings that match your filters. This can take a while if the document is large. If you don’t need all the results, you can pass in a number for limit. This works just like the LIMIT keyword in SQL. It tells Beautiful Soup to stop gathering results after it’s found a certain number.\n",
    "\n",
    "There are three links in the “three sisters” document, but this code only finds the first two:"
   ]
  },
  {
   "cell_type": "code",
   "execution_count": 290,
   "id": "df6c4ff2",
   "metadata": {},
   "outputs": [
    {
     "data": {
      "text/plain": [
       "[<a class=\"sister\" href=\"http://example.com/elsie\" id=\"link1\">Elsie</a>,\n",
       " <a class=\"sister\" href=\"http://example.com/lacie\" id=\"link2\">Lacie</a>]"
      ]
     },
     "execution_count": 290,
     "metadata": {},
     "output_type": "execute_result"
    }
   ],
   "source": [
    "soup.find_all(\"a\", limit=2)"
   ]
  },
  {
   "cell_type": "markdown",
   "id": "1546188a",
   "metadata": {},
   "source": [
    "#### The recursive argument\n",
    "If you call mytag.find_all(), Beautiful Soup will examine all the descendants of mytag: its children, its children’s children, and so on. If you only want Beautiful Soup to consider **direct children**, you can pass in recursive=False. See the difference here:"
   ]
  },
  {
   "cell_type": "code",
   "execution_count": 291,
   "id": "8c1bf71d",
   "metadata": {},
   "outputs": [
    {
     "data": {
      "text/plain": [
       "[<title>The Dormouse's story</title>]"
      ]
     },
     "execution_count": 291,
     "metadata": {},
     "output_type": "execute_result"
    }
   ],
   "source": [
    "soup.html.find_all(\"title\")"
   ]
  },
  {
   "cell_type": "code",
   "execution_count": 292,
   "id": "1e3455a7",
   "metadata": {},
   "outputs": [
    {
     "data": {
      "text/plain": [
       "[]"
      ]
     },
     "execution_count": 292,
     "metadata": {},
     "output_type": "execute_result"
    }
   ],
   "source": [
    "soup.html.find_all(\"title\", recursive=False)"
   ]
  },
  {
   "cell_type": "markdown",
   "id": "91f4fef1",
   "metadata": {},
   "source": [
    "Here’s that part of the document:"
   ]
  },
  {
   "cell_type": "code",
   "execution_count": 293,
   "id": "8e0b7588",
   "metadata": {},
   "outputs": [
    {
     "data": {
      "text/plain": [
       "\"<html>\\n <head>\\n  <title>\\n   The Dormouse's story\\n  </title>\\n </head>\\n...\\n\""
      ]
     },
     "execution_count": 293,
     "metadata": {},
     "output_type": "execute_result"
    }
   ],
   "source": [
    "'''<html>\n",
    " <head>\n",
    "  <title>\n",
    "   The Dormouse's story\n",
    "  </title>\n",
    " </head>\n",
    "...\n",
    "'''"
   ]
  },
  {
   "cell_type": "markdown",
   "id": "012fa113",
   "metadata": {},
   "source": [
    "The &lt;title> tag is beneath the &lt;html> tag, but it’s not directly beneath the &lt;html> tag: the &lt;head> tag is in the way. Beautiful Soup finds the &lt;title> tag when it’s allowed to look at all descendants of the &lt;html> tag, but when recursive=False restricts it to the &lt;html> tag’s immediate children, it finds nothing.\n",
    "\n",
    "Beautiful Soup offers a lot of tree-searching methods (covered below), and they mostly take the same arguments as find_all(): name, attrs, string, limit, and the keyword arguments. But the recursive argument is different: find_all() and find() are the only methods that support it. Passing recursive=False into a method like find_parents() wouldn’t be very useful."
   ]
  },
  {
   "cell_type": "markdown",
   "id": "985fb6c1",
   "metadata": {},
   "source": [
    "#### Calling a tag is like calling find_all()"
   ]
  },
  {
   "cell_type": "markdown",
   "id": "ef597e73",
   "metadata": {},
   "source": [
    "Because find_all() is the most popular method in the Beautiful Soup search API, you can use a shortcut for it. If you treat the BeautifulSoup object or a Tag object as though it were a function, then it’s the same as calling find_all() on that object. These two lines of code are equivalent:"
   ]
  },
  {
   "cell_type": "code",
   "execution_count": 294,
   "id": "6c63554d",
   "metadata": {},
   "outputs": [
    {
     "data": {
      "text/plain": [
       "[<a class=\"sister\" href=\"http://example.com/elsie\" id=\"link1\">Elsie</a>,\n",
       " <a class=\"sister\" href=\"http://example.com/lacie\" id=\"link2\">Lacie</a>,\n",
       " <a class=\"sister\" href=\"http://example.com/tillie\" id=\"link3\">Tillie</a>]"
      ]
     },
     "execution_count": 294,
     "metadata": {},
     "output_type": "execute_result"
    }
   ],
   "source": [
    "soup.find_all(\"a\")\n",
    "soup(\"a\")"
   ]
  },
  {
   "cell_type": "markdown",
   "id": "42076554",
   "metadata": {},
   "source": [
    "These two lines are also equivalent:"
   ]
  },
  {
   "cell_type": "code",
   "execution_count": 295,
   "id": "73348834",
   "metadata": {},
   "outputs": [
    {
     "data": {
      "text/plain": [
       "[\"The Dormouse's story\"]"
      ]
     },
     "execution_count": 295,
     "metadata": {},
     "output_type": "execute_result"
    }
   ],
   "source": [
    "soup.title.find_all(string=True)\n",
    "soup.title(string=True)"
   ]
  },
  {
   "cell_type": "markdown",
   "id": "b80175e1",
   "metadata": {},
   "source": [
    "#### find()\n",
    "Method signature: find(name, attrs, recursive, string, **kwargs)\n",
    "\n",
    "The find_all() method scans the entire document looking for results, but sometimes you only want to find one result. If you know a document only has one &lt;body> tag, it’s a waste of time to scan the entire document looking for more. Rather than passing in limit=1 every time you call find_all, you can use the find() method. These two lines of code are nearly equivalent:"
   ]
  },
  {
   "cell_type": "code",
   "execution_count": 296,
   "id": "9372b5d6",
   "metadata": {},
   "outputs": [
    {
     "data": {
      "text/plain": [
       "[<title>The Dormouse's story</title>]"
      ]
     },
     "execution_count": 296,
     "metadata": {},
     "output_type": "execute_result"
    }
   ],
   "source": [
    "soup.find_all('title', limit=1)"
   ]
  },
  {
   "cell_type": "code",
   "execution_count": 297,
   "id": "8be3edf9",
   "metadata": {},
   "outputs": [
    {
     "data": {
      "text/plain": [
       "<title>The Dormouse's story</title>"
      ]
     },
     "execution_count": 297,
     "metadata": {},
     "output_type": "execute_result"
    }
   ],
   "source": [
    "soup.find('title')"
   ]
  },
  {
   "cell_type": "markdown",
   "id": "225d0f33",
   "metadata": {},
   "source": [
    "The only difference is that find_all() returns a list containing the single result, and find() just returns the result.\n",
    "\n",
    "If find_all() can’t find anything, it returns an empty list. If find() can’t find anything, it returns None:"
   ]
  },
  {
   "cell_type": "code",
   "execution_count": 298,
   "id": "8f921adb",
   "metadata": {},
   "outputs": [
    {
     "name": "stdout",
     "output_type": "stream",
     "text": [
      "None\n"
     ]
    }
   ],
   "source": [
    "print(soup.find(\"nosuchtag\"))"
   ]
  },
  {
   "cell_type": "markdown",
   "id": "086b2f28",
   "metadata": {},
   "source": [
    "Remember the soup.head.title trick from Navigating using tag names? That trick works by repeatedly calling find():"
   ]
  },
  {
   "cell_type": "code",
   "execution_count": 299,
   "id": "d80ac45e",
   "metadata": {},
   "outputs": [
    {
     "data": {
      "text/plain": [
       "<title>The Dormouse's story</title>"
      ]
     },
     "execution_count": 299,
     "metadata": {},
     "output_type": "execute_result"
    }
   ],
   "source": [
    "soup.head.title"
   ]
  },
  {
   "cell_type": "code",
   "execution_count": 300,
   "id": "2ef60c17",
   "metadata": {},
   "outputs": [
    {
     "data": {
      "text/plain": [
       "<title>The Dormouse's story</title>"
      ]
     },
     "execution_count": 300,
     "metadata": {},
     "output_type": "execute_result"
    }
   ],
   "source": [
    "soup.find(\"head\").find(\"title\")"
   ]
  },
  {
   "cell_type": "markdown",
   "id": "af598058",
   "metadata": {},
   "source": [
    "#### find_parents() and find_parent()"
   ]
  },
  {
   "cell_type": "markdown",
   "id": "30c67635",
   "metadata": {},
   "source": [
    "Method signature: find_parents(name, attrs, string, limit, **kwargs)\n",
    "\n",
    "Method signature: find_parent(name, attrs, string, **kwargs)\n",
    "\n",
    "I spent a lot of time above covering find_all() and find(). The Beautiful Soup API defines ten other methods for searching the tree, but don’t be afraid. Five of these methods are basically the same as find_all(), and the other five are basically the same as find(). The only differences are in what parts of the tree they search.\n",
    "\n",
    "First let’s consider find_parents() and find_parent(). Remember that find_all() and find() work their way down the tree, looking at tag’s descendants. These methods do the opposite: **they work their way up the tree**, looking at a tag’s (or a string’s) parents. Let’s try them out, starting from a string buried deep in the “three daughters” document:"
   ]
  },
  {
   "cell_type": "code",
   "execution_count": 301,
   "id": "d91b0691",
   "metadata": {},
   "outputs": [
    {
     "data": {
      "text/plain": [
       "'Lacie'"
      ]
     },
     "execution_count": 301,
     "metadata": {},
     "output_type": "execute_result"
    }
   ],
   "source": [
    "a_string = soup.find(string=\"Lacie\")\n",
    "a_string"
   ]
  },
  {
   "cell_type": "code",
   "execution_count": 302,
   "id": "7e5ab0f1",
   "metadata": {},
   "outputs": [
    {
     "data": {
      "text/plain": [
       "[<a class=\"sister\" href=\"http://example.com/lacie\" id=\"link2\">Lacie</a>]"
      ]
     },
     "execution_count": 302,
     "metadata": {},
     "output_type": "execute_result"
    }
   ],
   "source": [
    "a_string.find_parents(\"a\")"
   ]
  },
  {
   "cell_type": "code",
   "execution_count": 303,
   "id": "70ff912c",
   "metadata": {},
   "outputs": [
    {
     "data": {
      "text/plain": [
       "<p class=\"story\">Once upon a time there were three little sisters; and their names were\n",
       "<a class=\"sister\" href=\"http://example.com/elsie\" id=\"link1\">Elsie</a>,\n",
       "<a class=\"sister\" href=\"http://example.com/lacie\" id=\"link2\">Lacie</a> and\n",
       "<a class=\"sister\" href=\"http://example.com/tillie\" id=\"link3\">Tillie</a>;\n",
       "and they lived at the bottom of a well.</p>"
      ]
     },
     "execution_count": 303,
     "metadata": {},
     "output_type": "execute_result"
    }
   ],
   "source": [
    "a_string.find_parent(\"p\")"
   ]
  },
  {
   "cell_type": "code",
   "execution_count": 304,
   "id": "1d7cbf93",
   "metadata": {},
   "outputs": [
    {
     "data": {
      "text/plain": [
       "[]"
      ]
     },
     "execution_count": 304,
     "metadata": {},
     "output_type": "execute_result"
    }
   ],
   "source": [
    "a_string.find_parents(\"p\", class_=\"title\")"
   ]
  },
  {
   "cell_type": "code",
   "execution_count": 305,
   "id": "e090bf1e",
   "metadata": {},
   "outputs": [
    {
     "data": {
      "text/plain": [
       "[]"
      ]
     },
     "execution_count": 305,
     "metadata": {},
     "output_type": "execute_result"
    }
   ],
   "source": [
    "a_string.find_parents(\"p\", class_=\"title\")"
   ]
  },
  {
   "cell_type": "markdown",
   "id": "f017b793",
   "metadata": {},
   "source": [
    "One of the three &lt;a> tags is the direct parent of the string in question, so our search finds it. One of the three &lt;p> tags is an indirect parent of the string, and our search finds that as well. There’s a &lt;p> tag with the CSS class “title” somewhere in the document, but it’s not one of this string’s parents, so we can’t find it with find_parents()."
   ]
  },
  {
   "cell_type": "markdown",
   "id": "2e4a70cf",
   "metadata": {},
   "source": [
    "You may have made the connection between find_parent() and find_parents(), and the .parent and .parents attributes mentioned earlier. The connection is very strong. These search methods actually use .parents to iterate over all the parents, and check each one against the provided filter to see if it matches."
   ]
  },
  {
   "cell_type": "markdown",
   "id": "81a2714b",
   "metadata": {},
   "source": [
    "#### find_next_siblings() and find_next_sibling()\n",
    "Method signature: find_next_siblings(name, attrs, string, limit, **kwargs)\n",
    "\n",
    "Method signature: find_next_sibling(name, attrs, string, **kwargs)\n",
    "\n",
    "These methods use .next_siblings to iterate over the rest of an element’s siblings in the tree. The find_next_siblings() method returns all the siblings that match, and find_next_sibling() only returns the first one:"
   ]
  },
  {
   "cell_type": "code",
   "execution_count": 306,
   "id": "001bd395",
   "metadata": {},
   "outputs": [
    {
     "data": {
      "text/plain": [
       "<a class=\"sister\" href=\"http://example.com/elsie\" id=\"link1\">Elsie</a>"
      ]
     },
     "execution_count": 306,
     "metadata": {},
     "output_type": "execute_result"
    }
   ],
   "source": [
    "first_link = soup.a\n",
    "first_link"
   ]
  },
  {
   "cell_type": "code",
   "execution_count": 307,
   "id": "376d1048",
   "metadata": {},
   "outputs": [
    {
     "data": {
      "text/plain": [
       "[<a class=\"sister\" href=\"http://example.com/lacie\" id=\"link2\">Lacie</a>,\n",
       " <a class=\"sister\" href=\"http://example.com/tillie\" id=\"link3\">Tillie</a>]"
      ]
     },
     "execution_count": 307,
     "metadata": {},
     "output_type": "execute_result"
    }
   ],
   "source": [
    "first_link.find_next_siblings(\"a\")"
   ]
  },
  {
   "cell_type": "code",
   "execution_count": 308,
   "id": "c7469317",
   "metadata": {},
   "outputs": [
    {
     "data": {
      "text/plain": [
       "<p class=\"story\">...</p>"
      ]
     },
     "execution_count": 308,
     "metadata": {},
     "output_type": "execute_result"
    }
   ],
   "source": [
    "first_story_paragraph = soup.find(\"p\", \"story\")\n",
    "first_story_paragraph.find_next_sibling(\"p\")"
   ]
  },
  {
   "cell_type": "markdown",
   "id": "f8c38030",
   "metadata": {},
   "source": [
    "#### find_previous_siblings() and find_previous_sibling()"
   ]
  },
  {
   "cell_type": "markdown",
   "id": "413f4dc5",
   "metadata": {},
   "source": [
    "Method signature: find_previous_siblings(name, attrs, string, limit, **kwargs)\n",
    "\n",
    "Method signature: find_previous_sibling(name, attrs, string, **kwargs)\n",
    "\n",
    "These methods use .previous_siblings to iterate over an element’s siblings that precede it in the tree. The find_previous_siblings() method returns all the siblings that match, and find_previous_sibling() only returns the first one:"
   ]
  },
  {
   "cell_type": "code",
   "execution_count": 309,
   "id": "480300a9",
   "metadata": {},
   "outputs": [
    {
     "data": {
      "text/plain": [
       "<a class=\"sister\" href=\"http://example.com/tillie\" id=\"link3\">Tillie</a>"
      ]
     },
     "execution_count": 309,
     "metadata": {},
     "output_type": "execute_result"
    }
   ],
   "source": [
    "last_link = soup.find(\"a\", id=\"link3\")\n",
    "last_link"
   ]
  },
  {
   "cell_type": "code",
   "execution_count": 310,
   "id": "188d19a6",
   "metadata": {},
   "outputs": [
    {
     "data": {
      "text/plain": [
       "[<a class=\"sister\" href=\"http://example.com/lacie\" id=\"link2\">Lacie</a>,\n",
       " <a class=\"sister\" href=\"http://example.com/elsie\" id=\"link1\">Elsie</a>]"
      ]
     },
     "execution_count": 310,
     "metadata": {},
     "output_type": "execute_result"
    }
   ],
   "source": [
    "last_link.find_previous_siblings(\"a\")"
   ]
  },
  {
   "cell_type": "code",
   "execution_count": 311,
   "id": "6bc1630a",
   "metadata": {},
   "outputs": [
    {
     "data": {
      "text/plain": [
       "<p class=\"title\"><b>The Dormouse's story</b></p>"
      ]
     },
     "execution_count": 311,
     "metadata": {},
     "output_type": "execute_result"
    }
   ],
   "source": [
    "first_story_paragraph = soup.find(\"p\", \"story\")\n",
    "first_story_paragraph.find_previous_sibling(\"p\")"
   ]
  },
  {
   "cell_type": "markdown",
   "id": "c93f72a3",
   "metadata": {},
   "source": [
    "#### find_all_next() and find_next()\n",
    "Method signature: find_all_next(name, attrs, string, limit, **kwargs)\n",
    "\n",
    "Method signature: find_next(name, attrs, string, **kwargs)\n",
    "\n",
    "These methods use .next_elements to iterate over **whatever tags and strings that come after it in the document**. The find_all_next() method returns all matches, and find_next() only returns the first match:"
   ]
  },
  {
   "cell_type": "code",
   "execution_count": 312,
   "id": "1e2e2d38",
   "metadata": {},
   "outputs": [
    {
     "data": {
      "text/plain": [
       "<a class=\"sister\" href=\"http://example.com/elsie\" id=\"link1\">Elsie</a>"
      ]
     },
     "execution_count": 312,
     "metadata": {},
     "output_type": "execute_result"
    }
   ],
   "source": [
    "first_link = soup.a\n",
    "first_link"
   ]
  },
  {
   "cell_type": "code",
   "execution_count": 313,
   "id": "642c5330",
   "metadata": {},
   "outputs": [
    {
     "data": {
      "text/plain": [
       "['Elsie',\n",
       " ',\\n',\n",
       " 'Lacie',\n",
       " ' and\\n',\n",
       " 'Tillie',\n",
       " ';\\nand they lived at the bottom of a well.',\n",
       " '\\n',\n",
       " '...',\n",
       " '\\n']"
      ]
     },
     "execution_count": 313,
     "metadata": {},
     "output_type": "execute_result"
    }
   ],
   "source": [
    "first_link.find_all_next(string=True)"
   ]
  },
  {
   "cell_type": "code",
   "execution_count": 314,
   "id": "5c52b388",
   "metadata": {},
   "outputs": [
    {
     "data": {
      "text/plain": [
       "<p class=\"story\">...</p>"
      ]
     },
     "execution_count": 314,
     "metadata": {},
     "output_type": "execute_result"
    }
   ],
   "source": [
    "first_link.find_next(\"p\")"
   ]
  },
  {
   "cell_type": "markdown",
   "id": "b5e24311",
   "metadata": {},
   "source": [
    "In the first example, the string “Elsie” showed up, even though it was contained within the &lt;a> tag we started from. In the second example, the last &lt;p> tag in the document showed up, even though it’s not in the same part of the tree as the &lt;a> tag we started from. For these methods, all that matters is that an element match the filter, and show up later in the document than the starting element."
   ]
  },
  {
   "cell_type": "markdown",
   "id": "5b38f8c6",
   "metadata": {},
   "source": [
    "#### find_all_previous() and find_previous()"
   ]
  },
  {
   "cell_type": "markdown",
   "id": "40266a92",
   "metadata": {},
   "source": [
    "Method signature: find_all_previous(name, attrs, string, limit, **kwargs)\n",
    "\n",
    "Method signature: find_previous(name, attrs, string, **kwargs)\n",
    "\n",
    "These methods use .previous_elements to iterate over the tags and strings that came before it in the document. The find_all_previous() method returns all matches, and find_previous() only returns the first match:"
   ]
  },
  {
   "cell_type": "code",
   "execution_count": 315,
   "id": "cc9edad4",
   "metadata": {},
   "outputs": [
    {
     "data": {
      "text/plain": [
       "<a class=\"sister\" href=\"http://example.com/elsie\" id=\"link1\">Elsie</a>"
      ]
     },
     "execution_count": 315,
     "metadata": {},
     "output_type": "execute_result"
    }
   ],
   "source": [
    "first_link = soup.a\n",
    "first_link"
   ]
  },
  {
   "cell_type": "code",
   "execution_count": 316,
   "id": "43687630",
   "metadata": {},
   "outputs": [
    {
     "data": {
      "text/plain": [
       "[<p class=\"story\">Once upon a time there were three little sisters; and their names were\n",
       " <a class=\"sister\" href=\"http://example.com/elsie\" id=\"link1\">Elsie</a>,\n",
       " <a class=\"sister\" href=\"http://example.com/lacie\" id=\"link2\">Lacie</a> and\n",
       " <a class=\"sister\" href=\"http://example.com/tillie\" id=\"link3\">Tillie</a>;\n",
       " and they lived at the bottom of a well.</p>,\n",
       " <p class=\"title\"><b>The Dormouse's story</b></p>]"
      ]
     },
     "execution_count": 316,
     "metadata": {},
     "output_type": "execute_result"
    }
   ],
   "source": [
    "first_link.find_all_previous(\"p\")"
   ]
  },
  {
   "cell_type": "code",
   "execution_count": 317,
   "id": "eeb6bf16",
   "metadata": {},
   "outputs": [
    {
     "data": {
      "text/plain": [
       "<title>The Dormouse's story</title>"
      ]
     },
     "execution_count": 317,
     "metadata": {},
     "output_type": "execute_result"
    }
   ],
   "source": [
    "first_link.find_previous(\"title\")"
   ]
  },
  {
   "cell_type": "markdown",
   "id": "6bd53bc6",
   "metadata": {},
   "source": [
    "The call to find_all_previous(\"p\") found the first paragraph in the document (the one with class=”title”), but it also finds the second paragraph, the &lt;p> tag that contains the &lt;a> tag we started with. This shouldn’t be too surprising: we’re looking at all the tags that show up earlier in the document than the one we started with. A &lt;p> tag that contains an &lt;a> tag must have shown up before the &lt;a> tag it contains."
   ]
  },
  {
   "cell_type": "markdown",
   "id": "4604f49f",
   "metadata": {},
   "source": [
    "### CSS selectors\n",
    "BeautifulSoup has a .select() method which uses the SoupSieve package to run a CSS selector against a parsed document and return all the matching elements. Tag has a similar method which runs a CSS selector against the contents of a single tag.\n",
    "\n",
    "(The SoupSieve integration was added in Beautiful Soup 4.7.0. Earlier versions also have the .select() method, but only the most commonly-used CSS selectors are supported. If you installed Beautiful Soup through pip, SoupSieve was installed at the same time, so you don’t have to do anything extra.)\n",
    "\n",
    "The SoupSieve documentation lists all the currently supported CSS selectors, but here are some of the basics:\n",
    "\n",
    "CSS selectors are used to select the element you want to style:  \n",
    "https://www.w3schools.com/cssref/css_selectors.asp  \n",
    "http://web.simmons.edu/~grabiner/comm244/weekfour/selectors.html  \n",
    "\n",
    "You can find tags:"
   ]
  },
  {
   "cell_type": "code",
   "execution_count": 318,
   "id": "1f846a30",
   "metadata": {},
   "outputs": [
    {
     "data": {
      "text/plain": [
       "[<title>The Dormouse's story</title>]"
      ]
     },
     "execution_count": 318,
     "metadata": {},
     "output_type": "execute_result"
    }
   ],
   "source": [
    "soup.select(\"title\")"
   ]
  },
  {
   "cell_type": "code",
   "execution_count": 319,
   "id": "05136c01",
   "metadata": {},
   "outputs": [
    {
     "data": {
      "text/plain": [
       "[<p class=\"story\">...</p>]"
      ]
     },
     "execution_count": 319,
     "metadata": {},
     "output_type": "execute_result"
    }
   ],
   "source": [
    "soup.select(\"p:nth-of-type(3)\")"
   ]
  },
  {
   "cell_type": "markdown",
   "id": "3c3a96c6",
   "metadata": {},
   "source": [
    "Find tags beneath other tags:"
   ]
  },
  {
   "cell_type": "code",
   "execution_count": 320,
   "id": "975b37eb",
   "metadata": {},
   "outputs": [
    {
     "data": {
      "text/plain": [
       "[<a class=\"sister\" href=\"http://example.com/elsie\" id=\"link1\">Elsie</a>,\n",
       " <a class=\"sister\" href=\"http://example.com/lacie\" id=\"link2\">Lacie</a>,\n",
       " <a class=\"sister\" href=\"http://example.com/tillie\" id=\"link3\">Tillie</a>]"
      ]
     },
     "execution_count": 320,
     "metadata": {},
     "output_type": "execute_result"
    }
   ],
   "source": [
    "soup.select(\"body a\") # a beneath body"
   ]
  },
  {
   "cell_type": "code",
   "execution_count": 321,
   "id": "2135daf3",
   "metadata": {},
   "outputs": [
    {
     "data": {
      "text/plain": [
       "[<title>The Dormouse's story</title>]"
      ]
     },
     "execution_count": 321,
     "metadata": {},
     "output_type": "execute_result"
    }
   ],
   "source": [
    "soup.select(\"html head title\")"
   ]
  },
  {
   "cell_type": "markdown",
   "id": "11a80cd1",
   "metadata": {},
   "source": [
    "Find tags directly beneath other tags:"
   ]
  },
  {
   "cell_type": "code",
   "execution_count": 322,
   "id": "3e912b7f",
   "metadata": {},
   "outputs": [
    {
     "data": {
      "text/plain": [
       "[<title>The Dormouse's story</title>]"
      ]
     },
     "execution_count": 322,
     "metadata": {},
     "output_type": "execute_result"
    }
   ],
   "source": [
    "soup.select(\"head > title\")"
   ]
  },
  {
   "cell_type": "code",
   "execution_count": 323,
   "id": "ba25b033",
   "metadata": {},
   "outputs": [
    {
     "data": {
      "text/plain": [
       "[<a class=\"sister\" href=\"http://example.com/elsie\" id=\"link1\">Elsie</a>,\n",
       " <a class=\"sister\" href=\"http://example.com/lacie\" id=\"link2\">Lacie</a>,\n",
       " <a class=\"sister\" href=\"http://example.com/tillie\" id=\"link3\">Tillie</a>]"
      ]
     },
     "execution_count": 323,
     "metadata": {},
     "output_type": "execute_result"
    }
   ],
   "source": [
    "soup.select(\"p > a\")"
   ]
  },
  {
   "cell_type": "code",
   "execution_count": 324,
   "id": "6b18f852",
   "metadata": {},
   "outputs": [
    {
     "data": {
      "text/plain": [
       "[<a class=\"sister\" href=\"http://example.com/lacie\" id=\"link2\">Lacie</a>]"
      ]
     },
     "execution_count": 324,
     "metadata": {},
     "output_type": "execute_result"
    }
   ],
   "source": [
    "soup.select(\"p > a:nth-of-type(2)\")"
   ]
  },
  {
   "cell_type": "code",
   "execution_count": 325,
   "id": "80c7b86b",
   "metadata": {},
   "outputs": [
    {
     "data": {
      "text/plain": [
       "[<a class=\"sister\" href=\"http://example.com/elsie\" id=\"link1\">Elsie</a>]"
      ]
     },
     "execution_count": 325,
     "metadata": {},
     "output_type": "execute_result"
    }
   ],
   "source": [
    "soup.select(\"p > #link1\")"
   ]
  },
  {
   "cell_type": "code",
   "execution_count": 326,
   "id": "e051a1ba",
   "metadata": {},
   "outputs": [
    {
     "data": {
      "text/plain": [
       "[]"
      ]
     },
     "execution_count": 326,
     "metadata": {},
     "output_type": "execute_result"
    }
   ],
   "source": [
    "soup.select(\"body > a\")"
   ]
  },
  {
   "cell_type": "markdown",
   "id": "27a67c97",
   "metadata": {},
   "source": [
    "Find the siblings of tags:"
   ]
  },
  {
   "cell_type": "code",
   "execution_count": 327,
   "id": "407d06f6",
   "metadata": {},
   "outputs": [
    {
     "data": {
      "text/plain": [
       "[<a class=\"sister\" href=\"http://example.com/lacie\" id=\"link2\">Lacie</a>,\n",
       " <a class=\"sister\" href=\"http://example.com/tillie\" id=\"link3\">Tillie</a>]"
      ]
     },
     "execution_count": 327,
     "metadata": {},
     "output_type": "execute_result"
    }
   ],
   "source": [
    "#selects every element of class sister that is preceded by an element with id #link1\n",
    "soup.select(\"#link1 ~ .sister\")"
   ]
  },
  {
   "cell_type": "code",
   "execution_count": 328,
   "id": "95c74d20",
   "metadata": {},
   "outputs": [
    {
     "data": {
      "text/plain": [
       "[<a class=\"sister\" href=\"http://example.com/lacie\" id=\"link2\">Lacie</a>]"
      ]
     },
     "execution_count": 328,
     "metadata": {},
     "output_type": "execute_result"
    }
   ],
   "source": [
    "#selects the first element of class sister that is placed immediately after id #link1 \n",
    "soup.select(\"#link1 + .sister\")"
   ]
  },
  {
   "cell_type": "markdown",
   "id": "c919dcc5",
   "metadata": {},
   "source": [
    "Find tags by CSS class:"
   ]
  },
  {
   "cell_type": "code",
   "execution_count": 329,
   "id": "451ce0f5",
   "metadata": {},
   "outputs": [
    {
     "data": {
      "text/plain": [
       "[<a class=\"sister\" href=\"http://example.com/elsie\" id=\"link1\">Elsie</a>,\n",
       " <a class=\"sister\" href=\"http://example.com/lacie\" id=\"link2\">Lacie</a>,\n",
       " <a class=\"sister\" href=\"http://example.com/tillie\" id=\"link3\">Tillie</a>]"
      ]
     },
     "execution_count": 329,
     "metadata": {},
     "output_type": "execute_result"
    }
   ],
   "source": [
    "soup.select(\".sister\")"
   ]
  },
  {
   "cell_type": "code",
   "execution_count": 330,
   "id": "58ed35c0",
   "metadata": {},
   "outputs": [
    {
     "data": {
      "text/plain": [
       "[<a class=\"sister\" href=\"http://example.com/elsie\" id=\"link1\">Elsie</a>,\n",
       " <a class=\"sister\" href=\"http://example.com/lacie\" id=\"link2\">Lacie</a>,\n",
       " <a class=\"sister\" href=\"http://example.com/tillie\" id=\"link3\">Tillie</a>]"
      ]
     },
     "execution_count": 330,
     "metadata": {},
     "output_type": "execute_result"
    }
   ],
   "source": [
    "#Selects all elements with a class attribute containing the word \"sister\"\n",
    "soup.select(\"[class~=sister]\")"
   ]
  },
  {
   "cell_type": "markdown",
   "id": "9decc6b9",
   "metadata": {},
   "source": [
    "Find tags by ID:"
   ]
  },
  {
   "cell_type": "code",
   "execution_count": 331,
   "id": "716dfe72",
   "metadata": {},
   "outputs": [
    {
     "data": {
      "text/plain": [
       "[<a class=\"sister\" href=\"http://example.com/elsie\" id=\"link1\">Elsie</a>]"
      ]
     },
     "execution_count": 331,
     "metadata": {},
     "output_type": "execute_result"
    }
   ],
   "source": [
    "soup.select(\"#link1\")"
   ]
  },
  {
   "cell_type": "code",
   "execution_count": 332,
   "id": "66f4379d",
   "metadata": {},
   "outputs": [
    {
     "data": {
      "text/plain": [
       "[<a class=\"sister\" href=\"http://example.com/lacie\" id=\"link2\">Lacie</a>]"
      ]
     },
     "execution_count": 332,
     "metadata": {},
     "output_type": "execute_result"
    }
   ],
   "source": [
    "soup.select(\"a#link2\")"
   ]
  },
  {
   "cell_type": "markdown",
   "id": "8b98f7bc",
   "metadata": {},
   "source": [
    "Find tags that match any selector from a list of selectors:"
   ]
  },
  {
   "cell_type": "code",
   "execution_count": 333,
   "id": "071dc005",
   "metadata": {},
   "outputs": [
    {
     "data": {
      "text/plain": [
       "[<a class=\"sister\" href=\"http://example.com/elsie\" id=\"link1\">Elsie</a>,\n",
       " <a class=\"sister\" href=\"http://example.com/lacie\" id=\"link2\">Lacie</a>]"
      ]
     },
     "execution_count": 333,
     "metadata": {},
     "output_type": "execute_result"
    }
   ],
   "source": [
    "soup.select(\"#link1,#link2\")"
   ]
  },
  {
   "cell_type": "markdown",
   "id": "52d2dd86",
   "metadata": {},
   "source": [
    "Test for the existence of an attribute:"
   ]
  },
  {
   "cell_type": "code",
   "execution_count": 334,
   "id": "0a1b7dc1",
   "metadata": {},
   "outputs": [
    {
     "data": {
      "text/plain": [
       "[<a class=\"sister\" href=\"http://example.com/elsie\" id=\"link1\">Elsie</a>,\n",
       " <a class=\"sister\" href=\"http://example.com/lacie\" id=\"link2\">Lacie</a>,\n",
       " <a class=\"sister\" href=\"http://example.com/tillie\" id=\"link3\">Tillie</a>]"
      ]
     },
     "execution_count": 334,
     "metadata": {},
     "output_type": "execute_result"
    }
   ],
   "source": [
    "soup.select('a[href]')"
   ]
  },
  {
   "cell_type": "markdown",
   "id": "56a1b7f7",
   "metadata": {},
   "source": [
    "Find tags by attribute value:"
   ]
  },
  {
   "cell_type": "code",
   "execution_count": 335,
   "id": "350de331",
   "metadata": {},
   "outputs": [
    {
     "data": {
      "text/plain": [
       "[<a class=\"sister\" href=\"http://example.com/elsie\" id=\"link1\">Elsie</a>]"
      ]
     },
     "execution_count": 335,
     "metadata": {},
     "output_type": "execute_result"
    }
   ],
   "source": [
    "soup.select('a[href=\"http://example.com/elsie\"]')"
   ]
  },
  {
   "cell_type": "code",
   "execution_count": 336,
   "id": "2b57e372",
   "metadata": {},
   "outputs": [
    {
     "data": {
      "text/plain": [
       "[<a class=\"sister\" href=\"http://example.com/elsie\" id=\"link1\">Elsie</a>,\n",
       " <a class=\"sister\" href=\"http://example.com/lacie\" id=\"link2\">Lacie</a>,\n",
       " <a class=\"sister\" href=\"http://example.com/tillie\" id=\"link3\">Tillie</a>]"
      ]
     },
     "execution_count": 336,
     "metadata": {},
     "output_type": "execute_result"
    }
   ],
   "source": [
    "#Selects every <a> element whose href attribute value begins with \"http://example.com/\"\n",
    "soup.select('a[href^=\"http://example.com/\"]')"
   ]
  },
  {
   "cell_type": "code",
   "execution_count": 337,
   "id": "f17ada06",
   "metadata": {},
   "outputs": [
    {
     "data": {
      "text/plain": [
       "[<a class=\"sister\" href=\"http://example.com/tillie\" id=\"link3\">Tillie</a>]"
      ]
     },
     "execution_count": 337,
     "metadata": {},
     "output_type": "execute_result"
    }
   ],
   "source": [
    "#Selects every <a> element whose href attribute value ends with \"tillie\"\n",
    "soup.select('a[href$=\"tillie\"]')"
   ]
  },
  {
   "cell_type": "code",
   "execution_count": 338,
   "id": "c62349f9",
   "metadata": {},
   "outputs": [
    {
     "data": {
      "text/plain": [
       "[<a class=\"sister\" href=\"http://example.com/elsie\" id=\"link1\">Elsie</a>]"
      ]
     },
     "execution_count": 338,
     "metadata": {},
     "output_type": "execute_result"
    }
   ],
   "source": [
    "#Selects every <a> element whose href attribute value contains the substring \".com/el\"\n",
    "soup.select('a[href*=\".com/el\"]')"
   ]
  },
  {
   "cell_type": "markdown",
   "id": "04ca55a1",
   "metadata": {},
   "source": [
    "There’s also a method called select_one(), which finds only the first tag that matches a selector:"
   ]
  },
  {
   "cell_type": "code",
   "execution_count": 339,
   "id": "5e631e89",
   "metadata": {},
   "outputs": [
    {
     "data": {
      "text/plain": [
       "<a class=\"sister\" href=\"http://example.com/elsie\" id=\"link1\">Elsie</a>"
      ]
     },
     "execution_count": 339,
     "metadata": {},
     "output_type": "execute_result"
    }
   ],
   "source": [
    "#class = sister\n",
    "soup.select_one(\".sister\")"
   ]
  },
  {
   "cell_type": "markdown",
   "id": "fa967ff0",
   "metadata": {},
   "source": [
    "If you’ve parsed XML that defines namespaces, you can use them in CSS selectors. (See BeautifulSoup Documentation)"
   ]
  },
  {
   "cell_type": "code",
   "execution_count": null,
   "id": "a5a95156",
   "metadata": {},
   "outputs": [],
   "source": []
  }
 ],
 "metadata": {
  "kernelspec": {
   "display_name": "Python 3 (ipykernel)",
   "language": "python",
   "name": "python3"
  },
  "language_info": {
   "codemirror_mode": {
    "name": "ipython",
    "version": 3
   },
   "file_extension": ".py",
   "mimetype": "text/x-python",
   "name": "python",
   "nbconvert_exporter": "python",
   "pygments_lexer": "ipython3",
   "version": "3.8.13"
  }
 },
 "nbformat": 4,
 "nbformat_minor": 5
}
